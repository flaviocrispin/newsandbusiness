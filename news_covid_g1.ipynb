{
 "cells": [
  {
   "cell_type": "code",
   "execution_count": 62,
   "metadata": {},
   "outputs": [],
   "source": [
    "#importando as bibliotecas\n",
    "import requests\n",
    "import csv\n",
    "from bs4 import BeautifulSoup\n",
    "import pandas as pd\n",
    "import nltk\n",
    "from nltk.tokenize import word_tokenize\n",
    "from nltk.tokenize import wordpunct_tokenize\n",
    "from nltk.probability import FreqDist\n",
    "from nltk.metrics import ConfusionMatrix\n",
    "from wordcloud import WordCloud\n",
    "import matplotlib.pyplot as plt\n",
    "from sklearn.feature_extraction.text import CountVectorizer\n",
    "from sklearn.feature_extraction.text import TfidfTransformer\n",
    "from sklearn.naive_bayes import MultinomialNB\n",
    "from sklearn.linear_model import SGDClassifier\n",
    "from sklearn.linear_model import LogisticRegression\n",
    "from sklearn.svm import SVC\n",
    "from sklearn.ensemble import RandomForestClassifier\n",
    "from sklearn.pipeline import Pipeline\n",
    "from sklearn import metrics\n",
    "from sklearn.model_selection import GridSearchCV\n",
    "from datetime import datetime as dt"
   ]
  },
  {
   "cell_type": "code",
   "execution_count": 28,
   "metadata": {},
   "outputs": [
    {
     "data": {
      "text/plain": [
       "13"
      ]
     },
     "execution_count": 28,
     "metadata": {},
     "output_type": "execute_result"
    }
   ],
   "source": [
    "#criando o arquivo onde irá os dados coletados\n",
    "f = csv.writer(open('news_g1.csv', 'w'))\n",
    "f.writerow(['titulo', 'Link'])"
   ]
  },
  {
   "cell_type": "code",
   "execution_count": 3,
   "metadata": {},
   "outputs": [],
   "source": [
    "#coletando todas as páginas do g1 da seção sobre o corona\n",
    "#obs. até a data de 07/04/2020 haviam 330 páginas no bem estar\n",
    "pages = []\n",
    "\n",
    "for i in range(1, 331):\n",
    "    url = 'https://g1.globo.com/bemestar/coronavirus/index/feed/pagina-' + str(i) +'.ghtml'\n",
    "    pages.append(url)"
   ]
  },
  {
   "cell_type": "code",
   "execution_count": 29,
   "metadata": {},
   "outputs": [],
   "source": [
    "for item in pages:\n",
    "    page = requests.get(item)\n",
    "    soup = BeautifulSoup(page.text, 'html.parser')\n",
    "    \n",
    "    #separando as noticias\n",
    "    selecao = soup.find_all('a', class_='gui-color-hover')\n",
    "\n",
    "    for select in selecao:\n",
    "        titulo = select.contents[0]\n",
    "        link = select.get('href')\n",
    "\n",
    "        f.writerow([titulo, link])"
   ]
  },
  {
   "cell_type": "code",
   "execution_count": 68,
   "metadata": {},
   "outputs": [],
   "source": [
    "df = pd.read_csv('news_g1.csv', sep=',', encoding = \"ISO-8859-1\")"
   ]
  },
  {
   "cell_type": "code",
   "execution_count": 69,
   "metadata": {},
   "outputs": [
    {
     "data": {
      "text/html": [
       "<div>\n",
       "<style scoped>\n",
       "    .dataframe tbody tr th:only-of-type {\n",
       "        vertical-align: middle;\n",
       "    }\n",
       "\n",
       "    .dataframe tbody tr th {\n",
       "        vertical-align: top;\n",
       "    }\n",
       "\n",
       "    .dataframe thead th {\n",
       "        text-align: right;\n",
       "    }\n",
       "</style>\n",
       "<table border=\"1\" class=\"dataframe\">\n",
       "  <thead>\n",
       "    <tr style=\"text-align: right;\">\n",
       "      <th></th>\n",
       "      <th>titulo</th>\n",
       "      <th>Link</th>\n",
       "    </tr>\n",
       "  </thead>\n",
       "  <tbody>\n",
       "    <tr>\n",
       "      <th>0</th>\n",
       "      <td>Brasil tem mais de 950 mortes e 18 mil casos d...</td>\n",
       "      <td>https://g1.globo.com/bemestar/coronavirus/noti...</td>\n",
       "    </tr>\n",
       "    <tr>\n",
       "      <th>1</th>\n",
       "      <td>Veja o que é #FATO ou #FAKE sobre o coronavírus</td>\n",
       "      <td>https://g1.globo.com/fato-ou-fake/noticia/2020...</td>\n",
       "    </tr>\n",
       "    <tr>\n",
       "      <th>2</th>\n",
       "      <td>Programa com especialistas tira dúvidas sobre ...</td>\n",
       "      <td>https://g1.globo.com/bemestar/coronavirus/ao-v...</td>\n",
       "    </tr>\n",
       "    <tr>\n",
       "      <th>3</th>\n",
       "      <td>Casos de coronavírus no Brasil em 10 de abril</td>\n",
       "      <td>https://g1.globo.com/bemestar/coronavirus/noti...</td>\n",
       "    </tr>\n",
       "    <tr>\n",
       "      <th>4</th>\n",
       "      <td>Últimas notícias de coronavírus de 10 de abril</td>\n",
       "      <td>https://g1.globo.com/bemestar/coronavirus/noti...</td>\n",
       "    </tr>\n",
       "  </tbody>\n",
       "</table>\n",
       "</div>"
      ],
      "text/plain": [
       "                                              titulo  \\\n",
       "0  Brasil tem mais de 950 mortes e 18 mil casos d...   \n",
       "1    Veja o que é #FATO ou #FAKE sobre o coronavírus   \n",
       "2  Programa com especialistas tira dúvidas sobre ...   \n",
       "3      Casos de coronavírus no Brasil em 10 de abril   \n",
       "4     Últimas notícias de coronavírus de 10 de abril   \n",
       "\n",
       "                                                Link  \n",
       "0  https://g1.globo.com/bemestar/coronavirus/noti...  \n",
       "1  https://g1.globo.com/fato-ou-fake/noticia/2020...  \n",
       "2  https://g1.globo.com/bemestar/coronavirus/ao-v...  \n",
       "3  https://g1.globo.com/bemestar/coronavirus/noti...  \n",
       "4  https://g1.globo.com/bemestar/coronavirus/noti...  "
      ]
     },
     "execution_count": 69,
     "metadata": {},
     "output_type": "execute_result"
    }
   ],
   "source": [
    "df.head()"
   ]
  },
  {
   "cell_type": "code",
   "execution_count": 70,
   "metadata": {},
   "outputs": [],
   "source": [
    "pattern = r'([0-3]?[0-9][\\/][0-3]?\\d[\\/](?:[0-9]{2})?[0-9]{2})'"
   ]
  },
  {
   "cell_type": "code",
   "execution_count": 71,
   "metadata": {},
   "outputs": [],
   "source": [
    "#criar uma nova coluna com a data modificada\n",
    "df['data'] = df['Link'].str.extract(pattern)"
   ]
  },
  {
   "cell_type": "code",
   "execution_count": 72,
   "metadata": {},
   "outputs": [
    {
     "data": {
      "text/html": [
       "<div>\n",
       "<style scoped>\n",
       "    .dataframe tbody tr th:only-of-type {\n",
       "        vertical-align: middle;\n",
       "    }\n",
       "\n",
       "    .dataframe tbody tr th {\n",
       "        vertical-align: top;\n",
       "    }\n",
       "\n",
       "    .dataframe thead th {\n",
       "        text-align: right;\n",
       "    }\n",
       "</style>\n",
       "<table border=\"1\" class=\"dataframe\">\n",
       "  <thead>\n",
       "    <tr style=\"text-align: right;\">\n",
       "      <th></th>\n",
       "      <th>titulo</th>\n",
       "      <th>Link</th>\n",
       "      <th>data</th>\n",
       "    </tr>\n",
       "  </thead>\n",
       "  <tbody>\n",
       "    <tr>\n",
       "      <th>0</th>\n",
       "      <td>Brasil tem mais de 950 mortes e 18 mil casos d...</td>\n",
       "      <td>https://g1.globo.com/bemestar/coronavirus/noti...</td>\n",
       "      <td>20/04/09</td>\n",
       "    </tr>\n",
       "    <tr>\n",
       "      <th>1</th>\n",
       "      <td>Veja o que é #FATO ou #FAKE sobre o coronavírus</td>\n",
       "      <td>https://g1.globo.com/fato-ou-fake/noticia/2020...</td>\n",
       "      <td>20/01/28</td>\n",
       "    </tr>\n",
       "    <tr>\n",
       "      <th>2</th>\n",
       "      <td>Programa com especialistas tira dúvidas sobre ...</td>\n",
       "      <td>https://g1.globo.com/bemestar/coronavirus/ao-v...</td>\n",
       "      <td>NaN</td>\n",
       "    </tr>\n",
       "    <tr>\n",
       "      <th>3</th>\n",
       "      <td>Casos de coronavírus no Brasil em 10 de abril</td>\n",
       "      <td>https://g1.globo.com/bemestar/coronavirus/noti...</td>\n",
       "      <td>20/04/10</td>\n",
       "    </tr>\n",
       "    <tr>\n",
       "      <th>4</th>\n",
       "      <td>Últimas notícias de coronavírus de 10 de abril</td>\n",
       "      <td>https://g1.globo.com/bemestar/coronavirus/noti...</td>\n",
       "      <td>20/04/10</td>\n",
       "    </tr>\n",
       "  </tbody>\n",
       "</table>\n",
       "</div>"
      ],
      "text/plain": [
       "                                              titulo  \\\n",
       "0  Brasil tem mais de 950 mortes e 18 mil casos d...   \n",
       "1    Veja o que é #FATO ou #FAKE sobre o coronavírus   \n",
       "2  Programa com especialistas tira dúvidas sobre ...   \n",
       "3      Casos de coronavírus no Brasil em 10 de abril   \n",
       "4     Últimas notícias de coronavírus de 10 de abril   \n",
       "\n",
       "                                                Link      data  \n",
       "0  https://g1.globo.com/bemestar/coronavirus/noti...  20/04/09  \n",
       "1  https://g1.globo.com/fato-ou-fake/noticia/2020...  20/01/28  \n",
       "2  https://g1.globo.com/bemestar/coronavirus/ao-v...       NaN  \n",
       "3  https://g1.globo.com/bemestar/coronavirus/noti...  20/04/10  \n",
       "4  https://g1.globo.com/bemestar/coronavirus/noti...  20/04/10  "
      ]
     },
     "execution_count": 72,
     "metadata": {},
     "output_type": "execute_result"
    }
   ],
   "source": [
    "df.head()"
   ]
  },
  {
   "cell_type": "code",
   "execution_count": 77,
   "metadata": {},
   "outputs": [],
   "source": [
    "df = df.dropna(subset=['data'])"
   ]
  },
  {
   "cell_type": "code",
   "execution_count": 78,
   "metadata": {},
   "outputs": [
    {
     "data": {
      "text/plain": [
       "titulo    0\n",
       "Link      0\n",
       "data      0\n",
       "dtype: int64"
      ]
     },
     "execution_count": 78,
     "metadata": {},
     "output_type": "execute_result"
    }
   ],
   "source": [
    "df.isnull().sum()"
   ]
  },
  {
   "cell_type": "code",
   "execution_count": 79,
   "metadata": {},
   "outputs": [],
   "source": [
    "def converter(old):\n",
    "   # Converter para um objecto datetime\n",
    "   date = dt.strptime(old, '%y/%m/%d')\n",
    "\n",
    "   # Converter para string com formato apropriado\n",
    "   new  = dt.strftime(date, '%Y/%m/%d')\n",
    "\n",
    "   return new"
   ]
  },
  {
   "cell_type": "code",
   "execution_count": 80,
   "metadata": {},
   "outputs": [],
   "source": [
    "df['data'] = df['data'].apply(converter)"
   ]
  },
  {
   "cell_type": "code",
   "execution_count": 85,
   "metadata": {},
   "outputs": [],
   "source": [
    "df"
   ]
  },
  {
   "cell_type": "code",
   "execution_count": 83,
   "metadata": {},
   "outputs": [
    {
     "ename": "AttributeError",
     "evalue": "'NoneType' object has no attribute 'info'",
     "output_type": "error",
     "traceback": [
      "\u001b[1;31m---------------------------------------------------------------------------\u001b[0m",
      "\u001b[1;31mAttributeError\u001b[0m                            Traceback (most recent call last)",
      "\u001b[1;32m<ipython-input-83-a74c58233b9e>\u001b[0m in \u001b[0;36m<module>\u001b[1;34m\u001b[0m\n\u001b[1;32m----> 1\u001b[1;33m \u001b[0mdf\u001b[0m\u001b[1;33m.\u001b[0m\u001b[0minfo\u001b[0m\u001b[1;33m(\u001b[0m\u001b[1;33m)\u001b[0m\u001b[1;33m\u001b[0m\u001b[1;33m\u001b[0m\u001b[0m\n\u001b[0m",
      "\u001b[1;31mAttributeError\u001b[0m: 'NoneType' object has no attribute 'info'"
     ]
    }
   ],
   "source": [
    "df.info()"
   ]
  },
  {
   "cell_type": "code",
   "execution_count": 82,
   "metadata": {},
   "outputs": [],
   "source": [
    "df = df.to_excel('news.xlsx')"
   ]
  },
  {
   "cell_type": "code",
   "execution_count": null,
   "metadata": {},
   "outputs": [],
   "source": []
  }
 ],
 "metadata": {
  "kernelspec": {
   "display_name": "Python 3",
   "language": "python",
   "name": "python3"
  },
  "language_info": {
   "codemirror_mode": {
    "name": "ipython",
    "version": 3
   },
   "file_extension": ".py",
   "mimetype": "text/x-python",
   "name": "python",
   "nbconvert_exporter": "python",
   "pygments_lexer": "ipython3",
   "version": "3.7.4"
  }
 },
 "nbformat": 4,
 "nbformat_minor": 2
}
