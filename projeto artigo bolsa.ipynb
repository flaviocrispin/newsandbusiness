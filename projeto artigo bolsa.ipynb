{
 "cells": [
  {
   "cell_type": "code",
   "execution_count": 1909,
   "metadata": {},
   "outputs": [],
   "source": [
    "import pandas as pd\n",
    "import re\n",
    "import random\n",
    "import numpy as np\n",
    "import nltk\n",
    "from nltk.tokenize import word_tokenize\n",
    "from nltk.tokenize import wordpunct_tokenize\n",
    "from nltk.probability import FreqDist\n",
    "from nltk.metrics import ConfusionMatrix\n",
    "from wordcloud import WordCloud\n",
    "import matplotlib.pyplot as plt\n",
    "from sklearn.feature_extraction.text import CountVectorizer\n",
    "from sklearn.feature_extraction.text import TfidfTransformer\n",
    "from sklearn.naive_bayes import MultinomialNB\n",
    "from sklearn.linear_model import SGDClassifier\n",
    "from sklearn.linear_model import LogisticRegression\n",
    "from sklearn.naive_bayes import BernoulliNB\n",
    "from sklearn.svm import SVC\n",
    "from sklearn.ensemble import RandomForestClassifier\n",
    "from sklearn.pipeline import Pipeline\n",
    "from sklearn import metrics\n",
    "from sklearn.model_selection import GridSearchCV\n",
    "from sklearn.model_selection import train_test_split\n",
    "from sklearn.preprocessing import LabelEncoder\n",
    "from sklearn.preprocessing import OneHotEncoder\n",
    "from sklearn import preprocessing\n",
    "from sklearn.preprocessing import StandardScaler\n",
    "from sklearn.metrics import accuracy_score\n",
    "from sklearn.ensemble import RandomForestClassifier\n",
    "from sklearn import svm\n",
    "from sklearn.neighbors import KNeighborsClassifier\n",
    "from sklearn import metrics\n",
    "import seaborn as sns\n",
    "from sklearn.feature_extraction.text import TfidfVectorizer\n",
    "from gensim.models import Word2Vec"
   ]
  },
  {
   "cell_type": "code",
   "execution_count": 1910,
   "metadata": {},
   "outputs": [],
   "source": [
    "#df = pd.read_csv('news_g1.csv', sep=',', encoding = \"ISO-8859-1\")"
   ]
  },
  {
   "cell_type": "code",
   "execution_count": 1911,
   "metadata": {},
   "outputs": [],
   "source": [
    "df = pd.read_excel('news02.xlsx')"
   ]
  },
  {
   "cell_type": "code",
   "execution_count": 1912,
   "metadata": {},
   "outputs": [
    {
     "data": {
      "text/html": [
       "<div>\n",
       "<style scoped>\n",
       "    .dataframe tbody tr th:only-of-type {\n",
       "        vertical-align: middle;\n",
       "    }\n",
       "\n",
       "    .dataframe tbody tr th {\n",
       "        vertical-align: top;\n",
       "    }\n",
       "\n",
       "    .dataframe thead th {\n",
       "        text-align: right;\n",
       "    }\n",
       "</style>\n",
       "<table border=\"1\" class=\"dataframe\">\n",
       "  <thead>\n",
       "    <tr style=\"text-align: right;\">\n",
       "      <th></th>\n",
       "      <th>titulo</th>\n",
       "      <th>Link</th>\n",
       "      <th>data</th>\n",
       "      <th>classes</th>\n",
       "    </tr>\n",
       "  </thead>\n",
       "  <tbody>\n",
       "    <tr>\n",
       "      <th>0</th>\n",
       "      <td>Brasil tem quase 600 mortos e passa de 12 mil ...</td>\n",
       "      <td>https://g1.globo.com/bemestar/coronavirus/noti...</td>\n",
       "      <td>2007-04-20</td>\n",
       "      <td>negativo</td>\n",
       "    </tr>\n",
       "    <tr>\n",
       "      <th>1</th>\n",
       "      <td>O que você precisa saber sobre a Covid-19</td>\n",
       "      <td>https://g1.globo.com/bemestar/coronavirus/noti...</td>\n",
       "      <td>2027-02-20</td>\n",
       "      <td>positivo</td>\n",
       "    </tr>\n",
       "    <tr>\n",
       "      <th>2</th>\n",
       "      <td>Itália tem menor número de casos de coronavíru...</td>\n",
       "      <td>https://g1.globo.com/mundo/noticia/2020/04/07/...</td>\n",
       "      <td>2007-04-20</td>\n",
       "      <td>positivo</td>\n",
       "    </tr>\n",
       "    <tr>\n",
       "      <th>3</th>\n",
       "      <td>'Coronavírus': MPT e TRT-15 direcionam mais R$...</td>\n",
       "      <td>https://g1.globo.com/sp/campinas-regiao/notici...</td>\n",
       "      <td>2007-04-20</td>\n",
       "      <td>positivo</td>\n",
       "    </tr>\n",
       "    <tr>\n",
       "      <th>4</th>\n",
       "      <td>Campinas confirma novos casos e chega a 70 inf...</td>\n",
       "      <td>https://g1.globo.com/sp/campinas-regiao/notici...</td>\n",
       "      <td>2007-04-20</td>\n",
       "      <td>negativo</td>\n",
       "    </tr>\n",
       "  </tbody>\n",
       "</table>\n",
       "</div>"
      ],
      "text/plain": [
       "                                              titulo  \\\n",
       "0  Brasil tem quase 600 mortos e passa de 12 mil ...   \n",
       "1          O que você precisa saber sobre a Covid-19   \n",
       "2  Itália tem menor número de casos de coronavíru...   \n",
       "3  'Coronavírus': MPT e TRT-15 direcionam mais R$...   \n",
       "4  Campinas confirma novos casos e chega a 70 inf...   \n",
       "\n",
       "                                                Link       data   classes  \n",
       "0  https://g1.globo.com/bemestar/coronavirus/noti... 2007-04-20  negativo  \n",
       "1  https://g1.globo.com/bemestar/coronavirus/noti... 2027-02-20  positivo  \n",
       "2  https://g1.globo.com/mundo/noticia/2020/04/07/... 2007-04-20  positivo  \n",
       "3  https://g1.globo.com/sp/campinas-regiao/notici... 2007-04-20  positivo  \n",
       "4  https://g1.globo.com/sp/campinas-regiao/notici... 2007-04-20  negativo  "
      ]
     },
     "execution_count": 1912,
     "metadata": {},
     "output_type": "execute_result"
    }
   ],
   "source": [
    "df.head()"
   ]
  },
  {
   "cell_type": "code",
   "execution_count": 1913,
   "metadata": {},
   "outputs": [],
   "source": [
    "pattern = r'([0-3]?[0-9][\\/][0-3]?\\d[\\/](?:[0-9]{2})?[0-9]{2})'"
   ]
  },
  {
   "cell_type": "code",
   "execution_count": 1914,
   "metadata": {},
   "outputs": [],
   "source": [
    "#criar uma nova coluna com a data modificada\n",
    "df['data'] = df['Link'].str.extract(pattern)"
   ]
  },
  {
   "cell_type": "code",
   "execution_count": 1915,
   "metadata": {},
   "outputs": [],
   "source": [
    "df = df.dropna(subset=['data'])"
   ]
  },
  {
   "cell_type": "code",
   "execution_count": 1916,
   "metadata": {},
   "outputs": [],
   "source": [
    "df['data'] = pd.to_datetime(df['data'])"
   ]
  },
  {
   "cell_type": "code",
   "execution_count": 1917,
   "metadata": {},
   "outputs": [],
   "source": [
    "#labelencoder = LabelEncoder()"
   ]
  },
  {
   "cell_type": "code",
   "execution_count": 1918,
   "metadata": {},
   "outputs": [],
   "source": [
    "#df['classes'] = labelencoder.fit_transform(df['classes'])"
   ]
  },
  {
   "cell_type": "code",
   "execution_count": 1919,
   "metadata": {},
   "outputs": [],
   "source": [
    "#scaler = StandardScaler()"
   ]
  },
  {
   "cell_type": "code",
   "execution_count": 1920,
   "metadata": {},
   "outputs": [],
   "source": [
    "#df['classes'] = scaler.fit_transform(df[['classes']])"
   ]
  },
  {
   "cell_type": "code",
   "execution_count": 1921,
   "metadata": {},
   "outputs": [],
   "source": [
    "# Função para remover Stopwords da nossa base:\n",
    "def RemoveStopWords(instancia):\n",
    "    stopwords = set(nltk.corpus.stopwords.words('portuguese'))\n",
    "    palavras = [i for i in instancia.split() if not i in stopwords]\n",
    "    return (\" \".join(palavras))"
   ]
  },
  {
   "cell_type": "code",
   "execution_count": 1922,
   "metadata": {},
   "outputs": [],
   "source": [
    "# Aplicando o stemming em nossa base:\n",
    "def Stemming(instancia):\n",
    "    stemmer = nltk.stem.RSLPStemmer()\n",
    "    palavras = []\n",
    "    for w in instancia.split():\n",
    "        palavras.append(stemmer.stem(w))\n",
    "    return (\" \".join(palavras))"
   ]
  },
  {
   "cell_type": "code",
   "execution_count": 1923,
   "metadata": {},
   "outputs": [],
   "source": [
    "def Limpeza_dados(instancia):\n",
    "    # remove links, pontos, virgulas,ponto e virgulas dos tweets\n",
    "    instancia = re.sub(r\"http\\S+\", \"\", instancia).lower().replace('.','').replace(';','').replace('-','').replace(':','').replace(')','')\n",
    "    return (instancia)"
   ]
  },
  {
   "cell_type": "code",
   "execution_count": 1924,
   "metadata": {},
   "outputs": [],
   "source": [
    "def Preprocessing(instancia):\n",
    "    instancia = re.sub(r\"http\\S+\", \"\", instancia).lower().replace('.','').replace(';','').replace('-','').replace(':','').replace(')','').replace('\"','')\n",
    "    stopwords = set(nltk.corpus.stopwords.words('portuguese'))\n",
    "    palavras = [i for i in instancia.split() if not i in stopwords]\n",
    "    return (\" \".join(palavras))"
   ]
  },
  {
   "cell_type": "code",
   "execution_count": 1925,
   "metadata": {},
   "outputs": [],
   "source": [
    "texto = df['titulo']"
   ]
  },
  {
   "cell_type": "code",
   "execution_count": 1926,
   "metadata": {},
   "outputs": [],
   "source": [
    "classe = df['classes']"
   ]
  },
  {
   "cell_type": "code",
   "execution_count": 1927,
   "metadata": {},
   "outputs": [],
   "source": [
    "# Aplica a função em todos os dados:\n",
    "texto = [Preprocessing(i) for i in texto]"
   ]
  },
  {
   "cell_type": "code",
   "execution_count": 1929,
   "metadata": {},
   "outputs": [],
   "source": [
    "all_words = [word for tokens in texto for word in tokens]\n",
    "sentence_lengths = [len(tokens) for tokens in texto]\n",
    "VOCAB = sorted(list(set(all_words)))"
   ]
  },
  {
   "cell_type": "code",
   "execution_count": 1930,
   "metadata": {},
   "outputs": [
    {
     "name": "stdout",
     "output_type": "stream",
     "text": [
      "20555 Quantidade total de palavras, com um vocabulario de 59\n",
      "Tamanho máximo de uma sentença 123\n"
     ]
    }
   ],
   "source": [
    "print(\"%s Quantidade total de palavras, com um vocabulario de %s\" % (len(all_words), len(VOCAB)))\n",
    "print(\"Tamanho máximo de uma sentença %s\" % max(sentence_lengths))"
   ]
  },
  {
   "cell_type": "code",
   "execution_count": 1931,
   "metadata": {},
   "outputs": [
    {
     "data": {
      "image/png": "[encoded data removed]",
      "text/plain": [
       "<Figure size 720x720 with 1 Axes>"
      ]
     },
     "metadata": {
      "needs_background": "light"
     },
     "output_type": "display_data"
    }
   ],
   "source": [
    "#Distribuilção das sentenças por quantidade de palavras\n",
    "fig = plt.figure(figsize=(10, 10)) \n",
    "plt.xlabel('Tamanho da setença')\n",
    "plt.ylabel('Número de sentenças')\n",
    "plt.hist(sentence_lengths)\n",
    "plt.show()"
   ]
  },
  {
   "cell_type": "code",
   "execution_count": 1932,
   "metadata": {},
   "outputs": [],
   "source": [
    "#contar frequencia de palavras\n",
    "vectorizer = CountVectorizer(analyzer=\"word\")"
   ]
  },
  {
   "cell_type": "code",
   "execution_count": 1933,
   "metadata": {},
   "outputs": [],
   "source": [
    "# Construindo exemplos para treinamento e teste\n",
    "X_train, X_test, y_train, y_test = train_test_split(texto, classe, test_size=0.4,random_state=40)"
   ]
  },
  {
   "cell_type": "code",
   "execution_count": 1934,
   "metadata": {},
   "outputs": [],
   "source": [
    "#treinar com os dados selecionados\n",
    "X_train_counts = vectorizer.fit_transform(texto)"
   ]
  },
  {
   "cell_type": "code",
   "execution_count": 1935,
   "metadata": {},
   "outputs": [],
   "source": [
    "# Contabilizando os termos no vocabulário aprendido para treino\n",
    "X_test_counts = vectorizer.fit_transform(classe)"
   ]
  },
  {
   "cell_type": "code",
   "execution_count": 1936,
   "metadata": {},
   "outputs": [],
   "source": [
    "def _tokenize_text(data):\n",
    "    ls = []\n",
    "\n",
    "    for line in data:\n",
    "        tokens = wordpunct_tokenize(line)\n",
    "        ls.append(tokens)\n",
    "\n",
    "    return ls"
   ]
  },
  {
   "cell_type": "code",
   "execution_count": 1937,
   "metadata": {},
   "outputs": [],
   "source": [
    "X_train_tokens = _tokenize_text(X_train)\n",
    "X_test_tokens = _tokenize_text(X_test)"
   ]
  },
  {
   "cell_type": "code",
   "execution_count": 1938,
   "metadata": {},
   "outputs": [],
   "source": [
    "def _apply_standardization(tokens, std_list):\n",
    "    ls = []\n",
    "\n",
    "    for tk_line in tokens:\n",
    "        new_tokens = []\n",
    "        \n",
    "        for word in tk_line:\n",
    "            if word.lower() in std_list:\n",
    "                word = std_list[word.lower()]\n",
    "                \n",
    "            new_tokens.append(word) \n",
    "            \n",
    "        ls.append(new_tokens)\n",
    "\n",
    "    return ls"
   ]
  },
  {
   "cell_type": "code",
   "execution_count": 1939,
   "metadata": {},
   "outputs": [],
   "source": [
    "def _remove_stopwords(tokens, stopword_list):\n",
    "    ls = []\n",
    "\n",
    "    for tk_line in tokens:\n",
    "        new_tokens = []\n",
    "        \n",
    "        for word in tk_line:\n",
    "            if word.lower() not in stopword_list:\n",
    "                new_tokens.append(word) \n",
    "            \n",
    "        ls.append(new_tokens)\n",
    "        \n",
    "    return ls"
   ]
  },
  {
   "cell_type": "code",
   "execution_count": 1940,
   "metadata": {},
   "outputs": [],
   "source": [
    "stopword_list = []"
   ]
  },
  {
   "cell_type": "code",
   "execution_count": 1941,
   "metadata": {},
   "outputs": [],
   "source": [
    "nltk_stopwords = nltk.corpus.stopwords.words('portuguese')"
   ]
  },
  {
   "cell_type": "code",
   "execution_count": 1942,
   "metadata": {},
   "outputs": [],
   "source": [
    "stopwords = pd.read_csv('stopwords.txt', encoding = \"ISO-8859-1\")"
   ]
  },
  {
   "cell_type": "code",
   "execution_count": 1943,
   "metadata": {},
   "outputs": [],
   "source": [
    "# list of array\n",
    "custom_stopwords = stopwords.values.tolist()"
   ]
  },
  {
   "cell_type": "code",
   "execution_count": 1944,
   "metadata": {},
   "outputs": [],
   "source": [
    "# transform list of array to list\n",
    "custom_stopwords = [s[0] for s in custom_stopwords]"
   ]
  },
  {
   "cell_type": "code",
   "execution_count": 1945,
   "metadata": {},
   "outputs": [],
   "source": [
    "X_train_tokens = _remove_stopwords(X_train_tokens, custom_stopwords)"
   ]
  },
  {
   "cell_type": "code",
   "execution_count": 1946,
   "metadata": {},
   "outputs": [
    {
     "name": "stdout",
     "output_type": "stream",
     "text": [
      "['elymar', 'santos', 'volta', 'casa', 'ramos', 'ajudar', 'durante', 'pandemia']\n",
      "['contrário', 'outros', 'países', ',', 'governos', 'brasil', 'méxico', 'perdem', 'popularidade', 'crise', 'coronavírus']\n",
      "['eua', 'negam', 'ter', 'bloqueado', 'encomenda', 'materiais', 'médicos', 'tratar', 'coronavírus', 'havia', 'sido', 'feita', 'bahia']\n",
      "['curados', 'coronavírus']\n",
      "['homem', 'ferido', 'tiro', 'bala', 'borracha', 'gcm', 'desrespeitar', 'quarentena', 'grande', 'sp', 'veja', 'vídeo']\n"
     ]
    }
   ],
   "source": [
    "# check data\n",
    "for i in range(0, 5):\n",
    "    print(X_train_tokens[i])"
   ]
  },
  {
   "cell_type": "code",
   "execution_count": 1947,
   "metadata": {},
   "outputs": [],
   "source": [
    "#criar gráfico de núvem\n",
    "def _get_text_cloud(tokens):\n",
    "    text = ''\n",
    "\n",
    "    for tk_line in tokens:\n",
    "        new_tokens = []\n",
    "        \n",
    "        for word in tk_line:\n",
    "            text += word + ' '\n",
    "        \n",
    "    return text"
   ]
  },
  {
   "cell_type": "code",
   "execution_count": 1948,
   "metadata": {},
   "outputs": [
    {
     "data": {
      "image/png": "[encoded data removed]",
      "text/plain": [
       "<Figure size 1152x648 with 1 Axes>"
      ]
     },
     "metadata": {
      "needs_background": "light"
     },
     "output_type": "display_data"
    }
   ],
   "source": [
    "# print train WordCloud\n",
    "sample_train = random.sample(X_train_tokens, 100)\n",
    "text_cloud = _get_text_cloud(sample_train)\n",
    "\n",
    "word_cloud = WordCloud(max_font_size = 100, width = 1520, height = 535)\n",
    "word_cloud.generate(text_cloud)\n",
    "plt.figure(figsize = (16, 9))\n",
    "plt.imshow(word_cloud)\n",
    "plt.axis('off')\n",
    "plt.show()"
   ]
  },
  {
   "cell_type": "code",
   "execution_count": 1949,
   "metadata": {},
   "outputs": [],
   "source": [
    "#frequencia de palavras \n",
    "def _get_freq_dist_list(tokens):\n",
    "    ls = []\n",
    "\n",
    "    for tk_line in tokens:\n",
    "        for word in tk_line:\n",
    "            ls.append(word)\n",
    "\n",
    "    return ls"
   ]
  },
  {
   "cell_type": "code",
   "execution_count": 1950,
   "metadata": {},
   "outputs": [
    {
     "name": "stdout",
     "output_type": "stream",
     "text": [
      "<FreqDist with 915 samples and 1761 outcomes>\n"
     ]
    }
   ],
   "source": [
    "#distribuição de frequencia nos dados de treino coletados\n",
    "fd_list = _get_freq_dist_list(X_train_tokens)\n",
    "fdist = FreqDist(fd_list)\n",
    "print(fdist)"
   ]
  },
  {
   "cell_type": "code",
   "execution_count": 1951,
   "metadata": {},
   "outputs": [
    {
     "name": "stdout",
     "output_type": "stream",
     "text": [
      "[('coronavírus', 107), (\"'\", 56), (',', 42), ('casos', 33), ('covid19', 23), ('diz', 21), ('novo', 19), ('pandemia', 14), ('mortes', 14), ('rio', 13), ('brasil', 12), ('abril', 12), ('pacientes', 12), ('sp', 11), ('número', 10), ('morte', 10), ('saúde', 10), ('durante', 9), ('confirmados', 9), ('registra', 9), ('isolamento', 9), ('confirma', 8), ('mil', 8), ('máscaras', 8), ('infectados', 7), ('chega', 7), ('sobre', 7), ('morre', 7), ('casa', 6), ('eua', 6), ('ter', 6), ('bahia', 6), ('dia', 6), ('novos', 6), ('9', 6), ('rj', 6), ('após', 6), ('maranhão', 6), ('contra', 6), ('5', 6), ('quarentena', 5), ('veja', 5), ('pessoas', 5), ('hospital', 5), ('sobe', 5), ('combate', 5), ('governo', 5), ('vai', 5), ('nova', 5), ('deve', 5)]\n"
     ]
    }
   ],
   "source": [
    "# palavras mais comuns\n",
    "most_common = fdist.most_common(50)\n",
    "print(most_common)"
   ]
  },
  {
   "cell_type": "code",
   "execution_count": 1952,
   "metadata": {},
   "outputs": [
    {
     "name": "stdout",
     "output_type": "stream",
     "text": [
      "['elymar', 'santos', 'ramos', 'contrário', 'outros', 'países', 'governos', 'méxico', 'perdem', 'popularidade', 'negam', 'bloqueado', 'encomenda', 'materiais', 'tratar', 'havia', 'feita', 'homem', 'ferido', 'tiro', 'bala', 'borracha', 'gcm', 'desrespeitar', 'grande', 'acaba', 'wuhan', 'epicentro', '76', 'importante']\n"
     ]
    }
   ],
   "source": [
    "# palavras menos comuns\n",
    "most_uncommon = fdist.hapaxes()\n",
    "print(most_uncommon[0:30])"
   ]
  },
  {
   "cell_type": "code",
   "execution_count": 1953,
   "metadata": {},
   "outputs": [
    {
     "data": {
      "text/plain": [
       "'coronavírus'"
      ]
     },
     "execution_count": 1953,
     "metadata": {},
     "output_type": "execute_result"
    }
   ],
   "source": [
    "# find the word occuring max number of times\n",
    "fdist.max()"
   ]
  },
  {
   "cell_type": "code",
   "execution_count": 1954,
   "metadata": {},
   "outputs": [
    {
     "data": {
      "image/png": "[encoded data removed]",
      "text/plain": [
       "<Figure size 432x288 with 1 Axes>"
      ]
     },
     "metadata": {
      "needs_background": "light"
     },
     "output_type": "display_data"
    }
   ],
   "source": [
    "# print most common words\n",
    "series = pd.Series(data=[v for k, v in most_common], index=[k for k, v in most_common], name='')\n",
    "ax = series.plot(kind='bar', title='Frequency Distribution')\n",
    "ax.set_xlabel('Word')\n",
    "ax.set_ylabel('Count')\n",
    "plt.show()"
   ]
  },
  {
   "cell_type": "code",
   "execution_count": 1955,
   "metadata": {},
   "outputs": [
    {
     "data": {
      "text/plain": [
       "0.06076093128904032"
      ]
     },
     "execution_count": 1955,
     "metadata": {},
     "output_type": "execute_result"
    }
   ],
   "source": [
    "# Freq = Number of occurences / total number of words\n",
    "fdist.freq('coronavírus')"
   ]
  },
  {
   "cell_type": "code",
   "execution_count": 1956,
   "metadata": {},
   "outputs": [],
   "source": [
    "def _untokenize_text(tokens):\n",
    "    ls = []\n",
    "\n",
    "    for tk_line in tokens:\n",
    "        new_line = ''\n",
    "        \n",
    "        for word in tk_line:\n",
    "            new_line += word + ' '\n",
    "            \n",
    "        ls.append(new_line)\n",
    "        \n",
    "    return ls"
   ]
  },
  {
   "cell_type": "code",
   "execution_count": 1957,
   "metadata": {},
   "outputs": [],
   "source": [
    "X_train = _untokenize_text(X_train_tokens)\n",
    "X_test = _untokenize_text(X_test_tokens)"
   ]
  },
  {
   "cell_type": "code",
   "execution_count": 1958,
   "metadata": {},
   "outputs": [],
   "source": [
    "X_test = _untokenize_text(X_test_tokens)"
   ]
  },
  {
   "cell_type": "code",
   "execution_count": 1959,
   "metadata": {},
   "outputs": [],
   "source": [
    "# create a count vectorizer object\n",
    "vectorizer = CountVectorizer(ngram_range=(2,2))\n",
    "X_train_vect = vectorizer.fit_transform(X_train)"
   ]
  },
  {
   "cell_type": "code",
   "execution_count": 1960,
   "metadata": {},
   "outputs": [],
   "source": [
    "tfidf_transformer = TfidfTransformer()\n",
    "X_train_tfidf = tfidf_transformer.fit_transform(X_train_vect)"
   ]
  },
  {
   "cell_type": "code",
   "execution_count": 1961,
   "metadata": {},
   "outputs": [
    {
     "data": {
      "text/plain": [
       "MultinomialNB(alpha=1.0, class_prior=None, fit_prior=True)"
      ]
     },
     "execution_count": 1961,
     "metadata": {},
     "output_type": "execute_result"
    }
   ],
   "source": [
    "model = MultinomialNB()\n",
    "model.fit(X_train_tfidf, y_train)"
   ]
  },
  {
   "cell_type": "code",
   "execution_count": 1962,
   "metadata": {},
   "outputs": [],
   "source": [
    "standalone_predictions = model.predict(X_train_tfidf)"
   ]
  },
  {
   "cell_type": "code",
   "execution_count": 1963,
   "metadata": {},
   "outputs": [
    {
     "name": "stdout",
     "output_type": "stream",
     "text": [
      "'brasil quase 600 mortos passa 12 mil casos coronavírus' => positivo\n",
      "'precisa saber sobre covid19' => negativo\n",
      "'itália menor número casos coronavírus 25 dias segundo dia seguido queda mortes' => positivo\n",
      "\"'coronavírus' mpt trt15 direcionam r$ 1 milhão hc unicamp comprar epis, remédios contratar serviços\" => positivo\n",
      "'campinas confirma novos casos chega 70 infectados covid19' => negativo\n",
      "'sobe 207 número casos novo coronavírus maranhão, diz ses' => positivo\n",
      "'covid19 europa preparando deixar confinamento' => positivo\n",
      "\"'coronavírus' valinhos apura sétima morte suspeita confirma novos casos positivos\" => positivo\n",
      "'covid19 moraes dá prazo estados comprovarem uso verba dívidas união' => positivo\n",
      "'dia, pernambuco confirma 129 novos casos coronavírus, chegando 352 estado 34 mortes' => negativo\n",
      "'acaba confinamento wuhan, primeiro epicentro covid19' => positivo\n",
      "'demanda transporte rodoviário país cai quase 40% coronavírus, diz pesquisa' => negativo\n",
      "'médico diz mundo precisa reinventar equipamentos proteção individual' => positivo\n",
      "'ifood arrecada dinheiro campanha ação cidadania durante pandemia' => negativo\n",
      "'concerto páscoa online une música poemas fernando pessoa arrecadar alimentos rj' => positivo\n",
      "'tecido máscaras artesanais deve ter várias camadas' => positivo\n",
      "'casais infectados covid19 precisam manter distanciamento' => negativo\n",
      "'áreas lazer condomínios devem permanecer fechadas' => negativo\n",
      "'mortes covid19 frança passam 10 mil' => positivo\n",
      "'embaixador eua diz país bloqueou compra equipamentos contra coronavírus' => negativo\n",
      "'hemocentro rio vai testar plasma sangue pacientes recuperados covid19' => negativo\n",
      "'pesquisa revela impacto covid19 sobre sistema saúde sp' => positivo\n",
      "\"'moto som', fantocherepórter lives moradores comunidade unem informar sobre coronavírus\" => negativo\n",
      "'pacientes curados passaram quarentena transmitem covid19' => negativo\n",
      "'recuperação pacientes gratificante profissionais saúde' => positivo\n",
      "'familiares pacientes suspeita covid19 reclamam demora transferências alertam cuidado doença' => positivo\n",
      "\"servidora pública coronavírus ap pede pessoas fiquem isolamento 'estar infectado difícil ficar casa'\" => negativo\n",
      "'coronavírus ap 48 casos confirmados 2 mortes 623 pacientes investigação' => positivo\n",
      "'mortes coronavírus registradas todas regiões estado sp' => positivo\n",
      "'rede laboratórios sp irá analisar 9 mil testes coronavírus represados dez dias' => negativo\n",
      "'reino unido registra 786 mortos coronavírus 24 horas, maior número desde início pandemia' => negativo\n",
      "'coronavírus festa pode ter espalhado vírus família sp matado 3 pessoas' => negativo\n",
      "'todas emergências municipais rio têm pacientes infectados novo coronavírus' => negativo\n",
      "'análise esgoto poderá dar pistas avanço coronavírus driblar falta testes, afirmam pesquisadores' => positivo\n",
      "'coronavírus governo lança plano arrecadação recursos financiar trabalho voluntário' => positivo\n",
      "'witzel flexibiliza circulação cidades onde casos confirmados covid19 rj escolas permanecem fechadas' => positivo\n",
      "'bahia 19 novos casos número infectados coronavírus chega 456 11 pessoas morreram' => positivo\n",
      "\"governo gastará 'o necessário 2020', elevar despesa forma permanente, diz tesouro\" => negativo\n",
      "'menos afetada pandemia, califórnia vai emprestar 500 respiradores nova york' => negativo\n",
      "'ecovias pagar r$ 36 milhões governo sp combate coronavírus, diz mp' => negativo\n",
      "\"\\x91absurdo total\\x92 cientistas condenam 'teoria' espalhada internet 5g transmite coronavírus\" => positivo\n",
      "'mundo escassez 5,9 milhões enfermeiros, segundo organização mundial saúde' => negativo\n",
      "'vídeos 07/04 combate coronavírus' => negativo\n",
      "'tesla revela protótipo respirador deverá produzir' => positivo\n",
      "'governo prevê liberar r$ 6 bi fundos constitucionais empréstimos pequeno empreendedor' => positivo\n",
      "'pagamento r$ 600 trabalhadores informais deve começar quinta, diz governo' => positivo\n",
      "'número mortes novo coronavírus irã aproxima 4 mil' => negativo\n",
      "'tecnologia usada brumadinho pode ajudar identificação mortos coronavírus rj' => negativo\n",
      "'brasil pico covid19 abril maio, vírus deve circular meados setembro, afirma mandetta especialistas relatório técnico' => negativo\n",
      "'28% brasileiros fazem isolamento 18% totalmente isolados, diz datafolha' => positivo\n",
      "'organização mundial saúde publica orientações uso máscaras durante pandemia coronavírus' => negativo\n",
      "'alunos professores unidades faetec todo rj produzem máscaras proteção individual' => negativo\n",
      "\"coronavírus pastor chamou epidemia 'histeria' morre após participar carnaval\" => positivo\n",
      "'ônibus continuam circulando lotados rio passageiros retirados coletivos avenida brasil' => positivo\n",
      "'prefeitura rio retoma vacinação contra gripe nesta terça riocentro oferecerá doses' => positivo\n",
      "'whatsapp limita reenvio mensagens 1 destinatário vez meio crise novo coronavírus' => negativo\n",
      "'espanha alta número mortes coronavírus após quatro dias queda' => negativo\n",
      "'japão declara estado emergência sete regiões causa coronavírus' => positivo\n",
      "'últimas notícias coronavírus 7 abril' => negativo\n",
      "'stj concede prisão domiciliar doleiro dario messer' => positivo\n",
      "'casos coronavírus brasil 7 abril' => negativo\n",
      "'coronavírus atinge 42 municípios rj 75% casos capital' => positivo\n",
      "'trump mandetta' => positivo\n",
      "'direto estante jornalistas globonews dão dicas livros' => negativo\n",
      "'china primeiro dia mortes novo coronavírus' => positivo\n",
      "'japão pior mês pandemia coronavírus 268 novos casos dia, média' => positivo\n",
      "'coronavírus ap 39 casos confirmados 2 mortes 613 pacientes investigação' => negativo\n",
      "'royalties petróleo, niterói maricá unem ajudar gonçalo construir hospital campanha pacientes covid19' => negativo\n",
      "'paulínia, mogi guaçu mogi mirim confirmam casos coronavírus' => negativo\n",
      "'coronavírus 54% população sp isolamento, diz governo estado' => negativo\n",
      "'veja bairros luís casos novo coronavírus nesta segunda (6' => positivo\n",
      "'equador decreta uso obrigatório máscaras conter casos novo coronavírus' => negativo\n",
      "'artistas theatro municipal sp cantam tocam casa 9ª sinfonia beethoven contra coronavírus' => negativo\n",
      "'mpf pede governo federal proibido divulgar informações falsas sobre isolamento social' => positivo\n",
      "'valinhos confirma 1ª morte novo coronavírus indaiatuba registra 4 casos positivos' => negativo\n",
      "\"'pratique inspire' veja possível divertir crianças casa durante pandemia\" => negativo\n",
      "'uso massa máscaras cirúrgicas preocupa oms' => negativo\n",
      "\"mourão diz reunião discutiu cenários flexibilizar isolamento diz mandetta 'segue combate'\" => negativo\n",
      "'curados novo coronavírus chegam 45 maranhão' => negativo\n",
      "'duas mulheres detidas desobedecer ordem circular praia icaraí, diz polícia' => positivo\n",
      "'itapira confirma 5 casos total infectados novo coronavírus chega 9' => positivo\n",
      "'psicólogos rj fazem atendimento virtual voluntário durante pandemia novo coronavírus veja lista' => negativo\n",
      "'3m diz ainda sabe ordem trump interromper exportação máscaras afetará filial brasil' => positivo\n",
      "\"'coronavírus' acic revisa cálculo, projeta redução 50% valor vendas páscoa rmc descarta contratos temporários\" => negativo\n",
      "'maranhão registra quarta morte novo coronavírus casos sobem 172' => positivo\n",
      "'coronavírus número mortos sc sobe 11, casos confirmados 417' => positivo\n",
      "\"alcolumbre diz planalto trocar mandetta 'grave erro' prejudicará relação parlamento\" => positivo\n",
      "'sobe 501 total casos confirmados coronavírus rs doença registrada 67 cidades' => positivo\n",
      "'secretaria confirma 31 casos novo coronavírus alagoas' => positivo\n",
      "'miss inglaterra troca coroa estetoscópio volta atuar médica combate covid19' => positivo\n",
      "'casos coronavírus paraíba 6 abril' => negativo\n",
      "'ministério muda estratégia propõe reduzir isolamento estados cidades 50% capacidade saúde vaga' => positivo\n",
      "'80 passageiros cruzeiro australiano ancorado uruguai têm coronavírus' => positivo\n",
      "'bahia seis novos casos número infectados coronavírus chega 437 10 pessoas morreram' => positivo\n",
      "\"'temos usar sacos lixo cabeça' médicos britânicos improvisam combate coronavírus\" => negativo\n",
      "'eua registram 10 mil mortes coronavírus' => positivo\n",
      "'bairros rio têm panelaços' => negativo\n",
      "'canadá eua encaram perdas safras falta mão obra estrangeira' => negativo\n",
      "'rj 71 mortes 1461 casos confirmados covid19' => positivo\n",
      "'coronavírus veja cronologia doença brasil' => negativo\n",
      "'sp registra 304 mortes coronavírus 4866 casos confirmados doença' => negativo\n",
      "'brasil 553 mortes 12056 casos confirmados coronavírus, diz ministério' => negativo\n",
      "'coronavírus campinas faz proposta alugar hospital sob intervenção prorroga iss micros pequenos' => positivo\n",
      "'santo antônio jardim investiga 1ª morte suspeita novo coronavírus total apuração região aumenta 30' => positivo\n",
      "'boris johnson transferido uti tratamento covid19' => positivo\n",
      "'internado testes, boris johnson diz bem deve voltar gabinete breve' => positivo\n",
      "\"19 dias internado coronavírus, paciente ganha festa equipe médica sp 'estive vida morte'\" => positivo\n",
      "'israel declara quarentena obrigatória durante páscoa judaica conter propagação coronavírus' => positivo\n",
      "\"'coronavírus' mp prevê corte salário deve preservar 30 mil vagas trabalho bares restaurantes rmc, diz entidade\" => negativo\n",
      "'centro nacional pesquisas campinas seleciona 2 remédios coquetel contra coronavírus começa testes in vitro' => positivo\n",
      "'prefeitura sp lacra 46 estabelecimentos comerciais descumpriram quarentena' => negativo\n",
      "'dicas pais exercícios brincadeiras crianças' => negativo\n",
      "'franceses têm opção utilizar autorização digital sair casa durante confinamento' => positivo\n",
      "'chile decreta uso obrigatório máscaras transporte público evitar propagação coronavírus' => negativo\n",
      "\"nova york dá sinais ter 'achatado curva' estado aumenta multa cumprir confinamento\" => positivo\n",
      "'ministro tse nega pedido uso parte fundo partidário combate coronavírus' => positivo\n",
      "'dificuldades profissionais saúde diante coronavírus' => positivo\n",
      "'médico morre covid19 hospital referência pacientes pandemia rio, diz cremerj' => positivo\n",
      "'riscos respeitar isolamento social' => negativo\n",
      "'sintomas covid19 podem ser confundidos infarto' => positivo\n",
      "'novos sintomas covid19 vêm sendo descobertos medicina' => positivo\n",
      "'fumantes têm risco maior complicações coronavírus' => positivo\n",
      "'gestantes grupo risco, precisam tomar cuidado' => negativo\n",
      "'bebês podem ser infectados novo coronavírus hora parto' => positivo\n",
      "'idosos podem sentir menos isolamento apoio parentes amigos' => positivo\n",
      "'vacinas remédios combater covid19 teste' => positivo\n",
      "'curadoria lady gaga, oms organiza série shows virtuais arrecadar fundos combater covid19' => negativo\n",
      "'comlurb orienta sobre descarte máscaras cirúrgicas usadas' => negativo\n",
      "'paulo 1372 leitos espera equipamentos profissionais serem convertidos uti' => negativo\n",
      "'serra negra investiga duas mortes suspeitas coronavírus região soma 29 óbitos investigação' => negativo\n",
      "'sp prevê 1,3 mil mortes coronavírus dia 13 isolamento social, estimativa 5 mil' => negativo\n",
      "'programa financia salários pequenas médias empresas entra operação' => positivo\n",
      "'idosa 90 anos oitava morte coronavírus rs' => negativo\n",
      "'bahia 30 novos casos número infectados coronavírus chega 431 10 pessoas morreram' => positivo\n",
      "\"david uip relata 'angústia' após ter sido infectado coronavírus 'dormia saber ia acordar'\" => negativo\n",
      "'medidas contra coronavírus fazendo terra vibrar menos' => positivo\n",
      "'doria prorroga quarentena sp 22 abril' => negativo\n",
      "'cmn aprova linha crédito recurso fundos constitucionais juros 2,5% ano' => positivo\n",
      "'pe registra morte adolescente 15 anos estado 9 mortes vai 30 óbitos' => positivo\n",
      "'italiana 104 anos viva época gripe espanhola resiste coronavírus' => negativo\n",
      "'saúde rj inicia estudos uso plasma pacientes curados coronavírus tratar infectados' => negativo\n",
      "'coronavírus mata mulher 28 anos dias após dar luz rio jovem 23 anos baixada' => positivo\n",
      "\"equipe técnica doria defende prorrogação quarentena sp 'sem flexibilização'\" => positivo\n",
      "'plataforma gratuita telemedicina suspeita covid19 criada brasileiros' => negativo\n",
      "'vídeos 06/04 combate coronavírus' => positivo\n",
      "'vida tempos coronavírus, abril 2020 fotos' => positivo\n",
      "'leitores agradecem trabalhadores serviços essenciais durante combate novo coronavírus vídeo' => negativo\n",
      "'fisioterapeuta grávida morre coronavírus bebê fica internado, diz hospital' => negativo\n",
      "'primeiros pacientes covid19 começam chegar hospital campanha pacaembu, sp' => positivo\n",
      "'grupo whatsapp, treinamento, ajuda polícia montadoras consertando respiradores' => positivo\n",
      "'cmn veda distribuição resultados aumento salário dirigentes bancos' => negativo\n",
      "'filho paciente morreu covid19 ba infectado internado estado grave, diz médico rapaz 31 anos' => negativo\n",
      "'moradores semteto reclamam demora atendimento condições abrigos durante pandemia coronavírus sp' => positivo\n",
      "'proibição feiras eventos, artesãos rio expõem internet passam produzir máscaras' => negativo\n",
      "'curados coronavírus' => negativo\n",
      "'mec autoriza antecipar formatura medicina, enfermagem, farmácia fisioterapia devido pandemia coronavírus' => positivo\n",
      "'coreia sul registra menos 50 novos casos país aumentou multa descumprir confinamento' => positivo\n",
      "'família lamenta enterro velório idoso morreu suspeita covid19 ilha governador' => negativo\n",
      "'hospital fiocruz construído atendimento coronavírus vai continuar rio após pandemia' => positivo\n",
      "'europa 50 mil mortos causa novo coronavírus' => negativo\n",
      "'coronavírus ap 32 casos confirmados 2 mortes 600 pacientes investigação' => positivo\n",
      "'contra coronavírus, prefeitura rio passa usar sinais celulares combater aglomerações' => positivo\n",
      "'weintraub publica insinuações contra china, apaga embaixada cobra retratação' => negativo\n",
      "'trump conformase papel gerente crise' => positivo\n",
      "'matemática utis 3 desafios evitar falte cuidado intensivo durante pandemia brasil' => negativo\n",
      "'espanha quarto dia consecutivo queda mortes coronavírus 637 vítimas fatais' => negativo\n",
      "'hospital campanha pacaembu começa receber pacientes nesta segunda' => positivo\n",
      "'fazer compras mercado aplicativo, sair casa, meio pandemia coronavírus? g1 faz tutorial dá dicas' => positivo\n",
      "'hospital curitiba 20 colaboradores coronavírus' => positivo\n",
      "'casos coronavírus brasil 6 abril' => negativo\n",
      "'76%, importante neste momento deixar pessoas casa, aponta datafolha' => negativo\n",
      "'últimas notícias coronavírus 6 abril' => positivo\n",
      "'eua começam distribuir 8 milhões máscaras hospitais, diz donald trump' => positivo\n",
      "'coronavírus sumaré 7 mortes suspeitas região soma menos 28 óbitos investigados' => positivo\n",
      "'homem ferido tiro bala borracha gcm desrespeitar quarentena grande sp veja vídeo' => negativo\n",
      "'casos coronavírus paraíba 5 abril' => positivo\n",
      "'ver vivo alguns lugares animais fascinantes mundo sair casa' => positivo\n",
      "'quase 70% casos covid19 maranhão atinge pacientes 20 49 anos' => negativo\n",
      "\"itália começa mirar 'fase dois' meio redução mortos covid19\" => positivo\n",
      "'maranhão registra 37 casos novo coronavírus 24h total sobe 133' => positivo\n",
      "'corpos mortos coronavírus ruas, cidade equador recebe doação mil caixões papelão' => negativo\n",
      "'sobe 28 número casos confirmados covid19 alagoas, diz secretaria' => positivo\n"
     ]
    }
   ],
   "source": [
    "for doc, prediction in zip(texto, standalone_predictions):\n",
    "    print('%r => %s' % (doc, prediction))"
   ]
  },
  {
   "cell_type": "code",
   "execution_count": 1964,
   "metadata": {},
   "outputs": [],
   "source": [
    "def _get_accuracy(matrix):\n",
    "    acc = 0\n",
    "    n = 0\n",
    "    total = 0\n",
    "    \n",
    "    for i in range(0, len(matrix)):\n",
    "        for j in range(0, len(matrix)):\n",
    "            if(i == j): \n",
    "                n += matrix[i,j]\n",
    "            \n",
    "            total += matrix[i,j]\n",
    "            \n",
    "    acc = n / total\n",
    "    return acc"
   ]
  },
  {
   "cell_type": "code",
   "execution_count": 1965,
   "metadata": {},
   "outputs": [
    {
     "name": "stdout",
     "output_type": "stream",
     "text": [
      "(122, 1283)\n"
     ]
    }
   ],
   "source": [
    "# Text to Features\n",
    "# Feature extraction from text \n",
    "# Method: bag of words\n",
    "X_test_vect = vectorizer.transform(X_test)\n",
    "print(X_test_vect.shape)"
   ]
  },
  {
   "cell_type": "code",
   "execution_count": 1966,
   "metadata": {},
   "outputs": [],
   "source": [
    "tfidf_vetorizer = TfidfVectorizer(max_df=.90, min_df=2, max_features=1119)\n",
    "tfidf = tfidf_vetorizer.fit_transform(df['titulo'])"
   ]
  },
  {
   "cell_type": "code",
   "execution_count": 1967,
   "metadata": {},
   "outputs": [
    {
     "name": "stdout",
     "output_type": "stream",
     "text": [
      "(122, 1283)\n"
     ]
    }
   ],
   "source": [
    "# TF-IDF: Term Frequency - Inverse Document Frequency\n",
    "# use the transform(...) method to transform count-matrix to a tf-idf representation.\n",
    "X_test_tfidf = tfidf_transformer.transform(X_test_vect)\n",
    "print(X_test_tfidf.shape)"
   ]
  },
  {
   "cell_type": "code",
   "execution_count": 1968,
   "metadata": {},
   "outputs": [],
   "source": [
    "#Make predictions on validation dataset\n",
    "predictions = model.predict(X_test_tfidf)"
   ]
  },
  {
   "cell_type": "code",
   "execution_count": 1969,
   "metadata": {},
   "outputs": [
    {
     "name": "stdout",
     "output_type": "stream",
     "text": [
      "[[26 31]\n",
      " [ 9 56]]\n"
     ]
    }
   ],
   "source": [
    "matrix = metrics.confusion_matrix(y_test, predictions)\n",
    "print(matrix)"
   ]
  },
  {
   "cell_type": "code",
   "execution_count": 1970,
   "metadata": {},
   "outputs": [
    {
     "name": "stdout",
     "output_type": "stream",
     "text": [
      "['negativo' 'positivo']\n"
     ]
    }
   ],
   "source": [
    "print(model.classes_)"
   ]
  },
  {
   "cell_type": "code",
   "execution_count": 1971,
   "metadata": {},
   "outputs": [
    {
     "name": "stdout",
     "output_type": "stream",
     "text": [
      "0.6721311475409836 0.6721311475409836\n"
     ]
    }
   ],
   "source": [
    "acc1 = np.mean(predictions == y_test)\n",
    "acc2 = _get_accuracy(matrix)\n",
    "print(acc1, acc2)"
   ]
  },
  {
   "cell_type": "code",
   "execution_count": 1972,
   "metadata": {},
   "outputs": [
    {
     "name": "stdout",
     "output_type": "stream",
     "text": [
      "'mortes covid19 frança passam 10 mil ' => negativo [negativo]\n",
      "'franceses têm opção utilizar autorização digital sair casa durante confinamento ' => positivo [positivo]\n",
      "'coronavírus campinas faz proposta alugar hospital sob intervenção prorroga iss micros pequenos ' => positivo [negativo]\n",
      "'frança autoriza uso anestésico veterinário tratar doentes covid19 ' => positivo [positivo]\n",
      "'80 passageiros cruzeiro australiano ancorado uruguai têm coronavírus ' => positivo [negativo]\n",
      "'fazer compras mercado aplicativo , sair casa , meio pandemia coronavírus ? g1 faz tutorial dá dicas ' => positivo [positivo]\n",
      "'ifood arrecada dinheiro campanha ação cidadania durante pandemia ' => positivo [positivo]\n",
      "'lições três eventos catalisadores novo coronavírus europa ' => negativo [positivo]\n",
      "'pernambuco 4 mortes 40 novos casos coronavírus ' => positivo [negativo]\n",
      "'trump conformase papel gerente crise ' => positivo [negativo]\n",
      "\"' não queremos outros conseguindo máscaras ', diz trump sobre equipamentos produção contra coronavírus \" => positivo [negativo]\n",
      "'covid19 europa preparando deixar confinamento ' => positivo [positivo]\n",
      "'ver vivo alguns lugares animais fascinantes mundo sair casa ' => positivo [positivo]\n",
      "'pacientes curados novo coronavírus chegam 19 maranhão ' => positivo [positivo]\n",
      "'brasil 432 mortes 10278 casos confirmados coronavírus , diz ministério ' => negativo [negativo]\n",
      "'serra negra investiga duas mortes suspeitas coronavírus região soma 29 óbitos investigação ' => positivo [negativo]\n",
      "'vídeos mostram ações pm 2 mortos favelas sp polícia civil corregedoria apuram agentes executaram suspeitos ' => positivo [negativo]\n",
      "'tesla revela protótipo respirador deverá produzir ' => positivo [positivo]\n",
      "'coronavírus sumaré 7 mortes suspeitas região soma menos 28 óbitos investigados ' => positivo [negativo]\n",
      "'china registra aumento novos casos coronavírus ' => positivo [negativo]\n"
     ]
    }
   ],
   "source": [
    "for doc, prediction, y in zip(X_test[0:20], predictions[0:20], y_test[0:20]):\n",
    "    print('%r => %s [%s]' % (doc, prediction, y))"
   ]
  },
  {
   "cell_type": "code",
   "execution_count": 1973,
   "metadata": {},
   "outputs": [
    {
     "name": "stdout",
     "output_type": "stream",
     "text": [
      "              precision    recall  f1-score   support\n",
      "\n",
      "    negativo       0.74      0.46      0.57        57\n",
      "    positivo       0.64      0.86      0.74        65\n",
      "\n",
      "    accuracy                           0.67       122\n",
      "   macro avg       0.69      0.66      0.65       122\n",
      "weighted avg       0.69      0.67      0.66       122\n",
      "\n"
     ]
    }
   ],
   "source": [
    "# performance analysis of the results\n",
    "print(metrics.classification_report(y_test, predictions, target_names=model.classes_))"
   ]
  },
  {
   "cell_type": "code",
   "execution_count": 1974,
   "metadata": {},
   "outputs": [],
   "source": [
    "model_MNB = Pipeline([\n",
    "    ('vect', CountVectorizer()),\n",
    "    ('tfidf', TfidfTransformer()),\n",
    "    ('clf', MultinomialNB()),\n",
    "])"
   ]
  },
  {
   "cell_type": "code",
   "execution_count": 1975,
   "metadata": {},
   "outputs": [],
   "source": [
    "model_SGD = Pipeline([\n",
    "    ('vect', CountVectorizer()),\n",
    "    ('tfidf', TfidfTransformer()),\n",
    "    ('clf', SGDClassifier(loss = 'hinge', penalty = 'l2', alpha = 1e-3, random_state = 42, max_iter = 5, tol = None)),\n",
    "])"
   ]
  },
  {
   "cell_type": "code",
   "execution_count": 1976,
   "metadata": {},
   "outputs": [],
   "source": [
    "model_LR = Pipeline([\n",
    "    ('vect', CountVectorizer()),\n",
    "    ('tfidf', TfidfTransformer()),\n",
    "    ('clf', LogisticRegression(random_state=0, solver='lbfgs', multi_class='multinomial')),\n",
    "])"
   ]
  },
  {
   "cell_type": "code",
   "execution_count": 1977,
   "metadata": {},
   "outputs": [],
   "source": [
    "model_SVC = Pipeline([\n",
    "    ('vect', CountVectorizer()),\n",
    "    ('tfidf', TfidfTransformer()),\n",
    "    ('clf', SVC()),\n",
    "])"
   ]
  },
  {
   "cell_type": "code",
   "execution_count": 1978,
   "metadata": {},
   "outputs": [],
   "source": [
    "model_RF = Pipeline([\n",
    "    ('vect', CountVectorizer()),\n",
    "    ('tfidf', TfidfTransformer()),\n",
    "    ('clf', RandomForestClassifier(random_state=1986,\n",
    "                                  criterion='gini',\n",
    "                                  max_depth=10,\n",
    "                                  n_estimators=50,\n",
    "                                  n_jobs=-1)),\n",
    "])"
   ]
  },
  {
   "cell_type": "code",
   "execution_count": 1979,
   "metadata": {},
   "outputs": [],
   "source": [
    "model_NB = Pipeline([\n",
    "    ('vect', CountVectorizer()),\n",
    "    ('tfidf', TfidfTransformer()),\n",
    "    ('clf', BernoulliNB()),\n",
    "])"
   ]
  },
  {
   "cell_type": "code",
   "execution_count": 1980,
   "metadata": {},
   "outputs": [],
   "source": [
    "model_MNB.fit(X_train, y_train)\n",
    "predictions_MNB = model_MNB.predict(X_test)"
   ]
  },
  {
   "cell_type": "code",
   "execution_count": 1981,
   "metadata": {},
   "outputs": [
    {
     "name": "stdout",
     "output_type": "stream",
     "text": [
      "0.7540983606557377\n"
     ]
    }
   ],
   "source": [
    "matrix = metrics.confusion_matrix(y_test, predictions_MNB)\n",
    "acc = _get_accuracy(matrix)\n",
    "print(acc)"
   ]
  },
  {
   "cell_type": "code",
   "execution_count": 1982,
   "metadata": {},
   "outputs": [],
   "source": [
    "model_SGD.fit(X_train, y_train)\n",
    "predictions_SGD = model_SGD.predict(X_test)"
   ]
  },
  {
   "cell_type": "code",
   "execution_count": 1983,
   "metadata": {},
   "outputs": [
    {
     "name": "stdout",
     "output_type": "stream",
     "text": [
      "0.7459016393442623\n"
     ]
    }
   ],
   "source": [
    "matrix = metrics.confusion_matrix(y_test, predictions_SGD)\n",
    "acc = _get_accuracy(matrix)\n",
    "print(acc)"
   ]
  },
  {
   "cell_type": "code",
   "execution_count": 1984,
   "metadata": {},
   "outputs": [],
   "source": [
    "model_LR.fit(X_train, y_train)\n",
    "predictions_LR = model_LR.predict(X_test)"
   ]
  },
  {
   "cell_type": "code",
   "execution_count": 1985,
   "metadata": {},
   "outputs": [
    {
     "name": "stdout",
     "output_type": "stream",
     "text": [
      "0.7459016393442623\n"
     ]
    }
   ],
   "source": [
    "acc = _get_accuracy(matrix)\n",
    "print(acc)"
   ]
  },
  {
   "cell_type": "code",
   "execution_count": 1986,
   "metadata": {},
   "outputs": [],
   "source": [
    "model_SVC.fit(X_train, y_train)\n",
    "predictions_SVC = model_SVC.predict(X_test)"
   ]
  },
  {
   "cell_type": "code",
   "execution_count": 2119,
   "metadata": {},
   "outputs": [
    {
     "name": "stdout",
     "output_type": "stream",
     "text": [
      "0.7704918032786885\n"
     ]
    }
   ],
   "source": [
    "matrix = metrics.confusion_matrix(y_test, predictions_SVC)\n",
    "acc = _get_accuracy(matrix)\n",
    "print(acc)"
   ]
  },
  {
   "cell_type": "code",
   "execution_count": 2118,
   "metadata": {},
   "outputs": [
    {
     "name": "stdout",
     "output_type": "stream",
     "text": [
      "0.7049180327868853\n"
     ]
    }
   ],
   "source": [
    "model_RF.fit(X_train, y_train)\n",
    "prediction_RF = model_RF.predict(X_test)\n",
    "matrix = metrics.confusion_matrix(y_test, prediction_RF)\n",
    "acc = _get_accuracy(matrix)\n",
    "print(acc)"
   ]
  },
  {
   "cell_type": "code",
   "execution_count": 2120,
   "metadata": {},
   "outputs": [
    {
     "name": "stdout",
     "output_type": "stream",
     "text": [
      "0.7786885245901639\n"
     ]
    }
   ],
   "source": [
    "model_NB.fit(X_train, y_train)\n",
    "prediction_NB = model_NB.predict(X_test)\n",
    "matrix = metrics.confusion_matrix(y_test, prediction_NB)\n",
    "acc = _get_accuracy(matrix)\n",
    "print(acc)"
   ]
  },
  {
   "cell_type": "code",
   "execution_count": 1990,
   "metadata": {},
   "outputs": [],
   "source": [
    "tokenized_titulos = df['titulo'].apply(lambda x: x.split())"
   ]
  },
  {
   "cell_type": "code",
   "execution_count": 1991,
   "metadata": {},
   "outputs": [
    {
     "name": "stderr",
     "output_type": "stream",
     "text": [
      "2020-04-09 10:20:07,815 INFO collecting all words and their counts\n",
      "2020-04-09 10:20:07,817 INFO PROGRESS: at sentence #0, processed 0 words, keeping 0 word types\n",
      "2020-04-09 10:20:07,822 INFO collected 1529 word types from a corpus of 4110 raw words and 304 sentences\n",
      "2020-04-09 10:20:07,823 INFO Loading a fresh vocabulary\n",
      "2020-04-09 10:20:07,829 INFO effective_min_count=2 retains 409 unique words (26% of original 1529, drops 1120)\n",
      "2020-04-09 10:20:07,830 INFO effective_min_count=2 leaves 2990 word corpus (72% of original 4110, drops 1120)\n",
      "2020-04-09 10:20:07,835 INFO deleting the raw counts dictionary of 1529 items\n",
      "2020-04-09 10:20:07,837 INFO sample=0.001 downsamples 71 most-common words\n",
      "2020-04-09 10:20:07,838 INFO downsampling leaves estimated 1776 word corpus (59.4% of prior 2990)\n",
      "2020-04-09 10:20:07,841 INFO estimated required memory for 409 words and 200 dimensions: 858900 bytes\n",
      "2020-04-09 10:20:07,842 INFO resetting layer weights\n",
      "2020-04-09 10:20:07,865 INFO training model with 2 workers on 409 vocabulary and 200 features, using sg=1 hs=0 sample=0.001 negative=10 window=5\n",
      "2020-04-09 10:20:07,873 INFO worker thread finished; awaiting finish of 1 more threads\n",
      "2020-04-09 10:20:07,894 INFO worker thread finished; awaiting finish of 0 more threads\n",
      "2020-04-09 10:20:07,896 INFO EPOCH - 1 : training on 4110 raw words (1769 effective words) took 0.0s, 69326 effective words/s\n",
      "2020-04-09 10:20:07,906 INFO worker thread finished; awaiting finish of 1 more threads\n",
      "2020-04-09 10:20:07,928 INFO worker thread finished; awaiting finish of 0 more threads\n",
      "2020-04-09 10:20:07,930 INFO EPOCH - 2 : training on 4110 raw words (1762 effective words) took 0.0s, 66228 effective words/s\n",
      "2020-04-09 10:20:07,937 INFO worker thread finished; awaiting finish of 1 more threads\n",
      "2020-04-09 10:20:07,958 INFO worker thread finished; awaiting finish of 0 more threads\n",
      "2020-04-09 10:20:07,960 INFO EPOCH - 3 : training on 4110 raw words (1796 effective words) took 0.0s, 71368 effective words/s\n",
      "2020-04-09 10:20:07,966 INFO worker thread finished; awaiting finish of 1 more threads\n",
      "2020-04-09 10:20:07,991 INFO worker thread finished; awaiting finish of 0 more threads\n",
      "2020-04-09 10:20:07,994 INFO EPOCH - 4 : training on 4110 raw words (1783 effective words) took 0.0s, 65273 effective words/s\n",
      "2020-04-09 10:20:08,001 INFO worker thread finished; awaiting finish of 1 more threads\n",
      "2020-04-09 10:20:08,024 INFO worker thread finished; awaiting finish of 0 more threads\n",
      "2020-04-09 10:20:08,026 INFO EPOCH - 5 : training on 4110 raw words (1809 effective words) took 0.0s, 65137 effective words/s\n",
      "2020-04-09 10:20:08,028 INFO training on a 20550 raw words (8919 effective words) took 0.2s, 55274 effective words/s\n",
      "2020-04-09 10:20:08,031 WARNING under 10 jobs per worker: consider setting a smaller `batch_words' for smoother alpha decay\n"
     ]
    }
   ],
   "source": [
    "model_w2v = Word2Vec(\n",
    "    tokenized_titulos,\n",
    "    size=200,\n",
    "    window=5,\n",
    "    min_count=2,\n",
    "    sg=1,\n",
    "    hs=0,\n",
    "    negative=10,\n",
    "    workers=2,\n",
    "    seed=34\n",
    ")"
   ]
  },
  {
   "cell_type": "code",
   "execution_count": 1992,
   "metadata": {},
   "outputs": [
    {
     "name": "stderr",
     "output_type": "stream",
     "text": [
      "2020-04-09 10:20:08,043 INFO training model with 2 workers on 409 vocabulary and 200 features, using sg=1 hs=0 sample=0.001 negative=10 window=5\n",
      "2020-04-09 10:20:08,050 INFO worker thread finished; awaiting finish of 1 more threads\n",
      "2020-04-09 10:20:08,083 INFO worker thread finished; awaiting finish of 0 more threads\n",
      "2020-04-09 10:20:08,084 INFO EPOCH - 1 : training on 4110 raw words (1735 effective words) took 0.0s, 48122 effective words/s\n",
      "2020-04-09 10:20:08,093 INFO worker thread finished; awaiting finish of 1 more threads\n",
      "2020-04-09 10:20:08,116 INFO worker thread finished; awaiting finish of 0 more threads\n",
      "2020-04-09 10:20:08,118 INFO EPOCH - 2 : training on 4110 raw words (1789 effective words) took 0.0s, 64792 effective words/s\n",
      "2020-04-09 10:20:08,124 INFO worker thread finished; awaiting finish of 1 more threads\n",
      "2020-04-09 10:20:08,149 INFO worker thread finished; awaiting finish of 0 more threads\n",
      "2020-04-09 10:20:08,151 INFO EPOCH - 3 : training on 4110 raw words (1808 effective words) took 0.0s, 63429 effective words/s\n",
      "2020-04-09 10:20:08,159 INFO worker thread finished; awaiting finish of 1 more threads\n",
      "2020-04-09 10:20:08,182 INFO worker thread finished; awaiting finish of 0 more threads\n",
      "2020-04-09 10:20:08,184 INFO EPOCH - 4 : training on 4110 raw words (1765 effective words) took 0.0s, 71423 effective words/s\n",
      "2020-04-09 10:20:08,191 INFO worker thread finished; awaiting finish of 1 more threads\n",
      "2020-04-09 10:20:08,215 INFO worker thread finished; awaiting finish of 0 more threads\n",
      "2020-04-09 10:20:08,217 INFO EPOCH - 5 : training on 4110 raw words (1755 effective words) took 0.0s, 66781 effective words/s\n",
      "2020-04-09 10:20:08,227 INFO worker thread finished; awaiting finish of 1 more threads\n",
      "2020-04-09 10:20:08,248 INFO worker thread finished; awaiting finish of 0 more threads\n",
      "2020-04-09 10:20:08,250 INFO EPOCH - 6 : training on 4110 raw words (1772 effective words) took 0.0s, 68388 effective words/s\n",
      "2020-04-09 10:20:08,258 INFO worker thread finished; awaiting finish of 1 more threads\n",
      "2020-04-09 10:20:08,281 INFO worker thread finished; awaiting finish of 0 more threads\n",
      "2020-04-09 10:20:08,283 INFO EPOCH - 7 : training on 4110 raw words (1764 effective words) took 0.0s, 68750 effective words/s\n",
      "2020-04-09 10:20:08,291 INFO worker thread finished; awaiting finish of 1 more threads\n",
      "2020-04-09 10:20:08,314 INFO worker thread finished; awaiting finish of 0 more threads\n",
      "2020-04-09 10:20:08,317 INFO EPOCH - 8 : training on 4110 raw words (1773 effective words) took 0.0s, 63620 effective words/s\n",
      "2020-04-09 10:20:08,327 INFO worker thread finished; awaiting finish of 1 more threads\n",
      "2020-04-09 10:20:08,349 INFO worker thread finished; awaiting finish of 0 more threads\n",
      "2020-04-09 10:20:08,351 INFO EPOCH - 9 : training on 4110 raw words (1769 effective words) took 0.0s, 66236 effective words/s\n",
      "2020-04-09 10:20:08,358 INFO worker thread finished; awaiting finish of 1 more threads\n",
      "2020-04-09 10:20:08,383 INFO worker thread finished; awaiting finish of 0 more threads\n",
      "2020-04-09 10:20:08,384 INFO EPOCH - 10 : training on 4110 raw words (1786 effective words) took 0.0s, 68447 effective words/s\n",
      "2020-04-09 10:20:08,391 INFO worker thread finished; awaiting finish of 1 more threads\n",
      "2020-04-09 10:20:08,415 INFO worker thread finished; awaiting finish of 0 more threads\n",
      "2020-04-09 10:20:08,417 INFO EPOCH - 11 : training on 4110 raw words (1820 effective words) took 0.0s, 69567 effective words/s\n",
      "2020-04-09 10:20:08,426 INFO worker thread finished; awaiting finish of 1 more threads\n",
      "2020-04-09 10:20:08,449 INFO worker thread finished; awaiting finish of 0 more threads\n",
      "2020-04-09 10:20:08,451 INFO EPOCH - 12 : training on 4110 raw words (1772 effective words) took 0.0s, 65821 effective words/s\n",
      "2020-04-09 10:20:08,458 INFO worker thread finished; awaiting finish of 1 more threads\n",
      "2020-04-09 10:20:08,480 INFO worker thread finished; awaiting finish of 0 more threads\n",
      "2020-04-09 10:20:08,482 INFO EPOCH - 13 : training on 4110 raw words (1779 effective words) took 0.0s, 65540 effective words/s\n",
      "2020-04-09 10:20:08,492 INFO worker thread finished; awaiting finish of 1 more threads\n",
      "2020-04-09 10:20:08,515 INFO worker thread finished; awaiting finish of 0 more threads\n",
      "2020-04-09 10:20:08,516 INFO EPOCH - 14 : training on 4110 raw words (1779 effective words) took 0.0s, 65277 effective words/s\n",
      "2020-04-09 10:20:08,523 INFO worker thread finished; awaiting finish of 1 more threads\n",
      "2020-04-09 10:20:08,548 INFO worker thread finished; awaiting finish of 0 more threads\n",
      "2020-04-09 10:20:08,550 INFO EPOCH - 15 : training on 4110 raw words (1785 effective words) took 0.0s, 60736 effective words/s\n",
      "2020-04-09 10:20:08,557 INFO worker thread finished; awaiting finish of 1 more threads\n",
      "2020-04-09 10:20:08,579 INFO worker thread finished; awaiting finish of 0 more threads\n",
      "2020-04-09 10:20:08,581 INFO EPOCH - 16 : training on 4110 raw words (1758 effective words) took 0.0s, 69168 effective words/s\n",
      "2020-04-09 10:20:08,588 INFO worker thread finished; awaiting finish of 1 more threads\n",
      "2020-04-09 10:20:08,616 INFO worker thread finished; awaiting finish of 0 more threads\n",
      "2020-04-09 10:20:08,618 INFO EPOCH - 17 : training on 4110 raw words (1780 effective words) took 0.0s, 54646 effective words/s\n",
      "2020-04-09 10:20:08,625 INFO worker thread finished; awaiting finish of 1 more threads\n",
      "2020-04-09 10:20:08,646 INFO worker thread finished; awaiting finish of 0 more threads\n",
      "2020-04-09 10:20:08,648 INFO EPOCH - 18 : training on 4110 raw words (1747 effective words) took 0.0s, 69555 effective words/s\n",
      "2020-04-09 10:20:08,658 INFO worker thread finished; awaiting finish of 1 more threads\n",
      "2020-04-09 10:20:08,681 INFO worker thread finished; awaiting finish of 0 more threads\n",
      "2020-04-09 10:20:08,683 INFO EPOCH - 19 : training on 4110 raw words (1814 effective words) took 0.0s, 66855 effective words/s\n",
      "2020-04-09 10:20:08,689 INFO worker thread finished; awaiting finish of 1 more threads\n",
      "2020-04-09 10:20:08,712 INFO worker thread finished; awaiting finish of 0 more threads\n",
      "2020-04-09 10:20:08,716 INFO EPOCH - 20 : training on 4110 raw words (1754 effective words) took 0.0s, 66564 effective words/s\n",
      "2020-04-09 10:20:08,717 INFO training on a 82200 raw words (35504 effective words) took 0.7s, 52768 effective words/s\n"
     ]
    },
    {
     "data": {
      "text/plain": [
       "(35504, 82200)"
      ]
     },
     "execution_count": 1992,
     "metadata": {},
     "output_type": "execute_result"
    }
   ],
   "source": [
    "model_w2v.train(tokenized_titulos, total_examples=len(df['titulo']), epochs=20)"
   ]
  },
  {
   "cell_type": "code",
   "execution_count": 1993,
   "metadata": {},
   "outputs": [
    {
     "name": "stderr",
     "output_type": "stream",
     "text": [
      "2020-04-09 10:20:08,730 INFO precomputing L2-norms of word weight vectors\n"
     ]
    },
    {
     "data": {
      "text/plain": [
       "[('registra', 0.999087929725647),\n",
       " ('novo', 0.9987707734107971),\n",
       " ('confirma', 0.9985164999961853),\n",
       " ('coronavírus;', 0.9981486201286316),\n",
       " ('Bahia', 0.9980825185775757),\n",
       " ('total', 0.9977428913116455),\n",
       " ('9', 0.9973076581954956),\n",
       " ('Maranhão', 0.9972703456878662),\n",
       " ('1ª', 0.9971768856048584),\n",
       " ('mortes', 0.9971603155136108)]"
      ]
     },
     "execution_count": 1993,
     "metadata": {},
     "output_type": "execute_result"
    }
   ],
   "source": [
    "model_w2v.wv.most_similar(positive='morte')"
   ]
  },
  {
   "cell_type": "code",
   "execution_count": 1994,
   "metadata": {},
   "outputs": [
    {
     "name": "stderr",
     "output_type": "stream",
     "text": [
      "C:\\Users\\USUARIO\\Anaconda3\\lib\\site-packages\\ipykernel_launcher.py:1: DeprecationWarning: Call to deprecated `__getitem__` (Method will be removed in 4.0.0, use self.wv.__getitem__() instead).\n",
      "  \"\"\"Entry point for launching an IPython kernel.\n"
     ]
    },
    {
     "data": {
      "text/plain": [
       "array([-0.1530915 , -0.09960462, -0.04714648, -0.04573692,  0.11810296,\n",
       "       -0.00426554,  0.00839326,  0.02141966, -0.1113059 ,  0.18148717,\n",
       "       -0.07191963, -0.03258288,  0.06019535, -0.09699877, -0.04850239,\n",
       "        0.16095069,  0.04009615, -0.11717092,  0.01926887, -0.18788902,\n",
       "        0.0727423 , -0.2556947 ,  0.07983546,  0.00896452, -0.10233932,\n",
       "       -0.09235809,  0.0633134 , -0.21447375,  0.14698276,  0.00904944,\n",
       "        0.00255025,  0.03590426, -0.08177594, -0.13035476,  0.04461944,\n",
       "        0.06483533,  0.0054769 , -0.15540779, -0.02785299, -0.14575528,\n",
       "        0.06874224, -0.0212821 ,  0.3244986 ,  0.03604101, -0.05007065,\n",
       "       -0.052384  , -0.08656707,  0.07427822, -0.17535739,  0.02554993,\n",
       "       -0.0046251 , -0.06601463,  0.09437621, -0.08633161, -0.11748422,\n",
       "       -0.00804118,  0.0858845 ,  0.15615617,  0.07702954, -0.02874882,\n",
       "        0.09540899,  0.04622018,  0.14489004,  0.0946082 , -0.07009552,\n",
       "       -0.1095662 ,  0.14492808,  0.13408563, -0.2082134 ,  0.02821156,\n",
       "        0.02770267, -0.29289156,  0.01521655, -0.05412965,  0.09895509,\n",
       "       -0.22865488,  0.03072108, -0.02133293, -0.00750723,  0.01674266,\n",
       "        0.12737168, -0.10417925, -0.1583736 ,  0.11569467,  0.03100432,\n",
       "       -0.01530202, -0.24637729,  0.07978907,  0.02250941, -0.05962268,\n",
       "       -0.07467014,  0.04861645, -0.04908379,  0.01736403,  0.10750459,\n",
       "       -0.05540296, -0.10625602,  0.05952908,  0.05397178, -0.08222847,\n",
       "       -0.1091694 ,  0.04533778,  0.07868906,  0.0398888 , -0.06894396,\n",
       "        0.10856334,  0.09250111,  0.08866532,  0.00058919, -0.08740157,\n",
       "        0.00663104, -0.22311881,  0.09427263,  0.14274557,  0.1134731 ,\n",
       "        0.02458874, -0.03421658, -0.32349813,  0.05032865, -0.111334  ,\n",
       "        0.04519549,  0.29292813, -0.03673487, -0.08471707,  0.08098074,\n",
       "       -0.13498968,  0.00825879, -0.06245881,  0.16557284,  0.04168379,\n",
       "        0.06304662, -0.00945787, -0.03597819,  0.17197557, -0.01713775,\n",
       "       -0.04356806, -0.08464699,  0.16382366,  0.01549044,  0.17798288,\n",
       "       -0.091392  , -0.0304862 , -0.24452479,  0.10742135, -0.0552008 ,\n",
       "        0.22124325,  0.11858328,  0.0534168 ,  0.06969032,  0.06646699,\n",
       "       -0.09499098, -0.09811409, -0.11587297, -0.1043348 ,  0.09921421,\n",
       "       -0.02725797, -0.11187302,  0.03711243, -0.09917568, -0.00525463,\n",
       "        0.00335734,  0.13607763,  0.15811588,  0.07012141,  0.07682276,\n",
       "        0.08083969, -0.0180752 , -0.02057726, -0.05401436, -0.05641628,\n",
       "        0.1085472 ,  0.10987203, -0.04944871,  0.01436212,  0.01891104,\n",
       "        0.11251077,  0.03746808,  0.01440972,  0.04946303,  0.02567857,\n",
       "       -0.12520447, -0.01035943, -0.10391902, -0.09078623,  0.02290964,\n",
       "        0.02312381,  0.0086165 ,  0.00884133,  0.12708278, -0.02854456,\n",
       "       -0.07538134, -0.04146551,  0.02163816, -0.13737673,  0.04954926,\n",
       "       -0.14012854, -0.0609674 , -0.05357907,  0.00414045,  0.03058577],\n",
       "      dtype=float32)"
      ]
     },
     "execution_count": 1994,
     "metadata": {},
     "output_type": "execute_result"
    }
   ],
   "source": [
    "model_w2v['coronavírus']"
   ]
  },
  {
   "cell_type": "code",
   "execution_count": 1995,
   "metadata": {},
   "outputs": [
    {
     "name": "stderr",
     "output_type": "stream",
     "text": [
      "C:\\Users\\USUARIO\\Anaconda3\\lib\\site-packages\\ipykernel_launcher.py:1: DeprecationWarning: Call to deprecated `__getitem__` (Method will be removed in 4.0.0, use self.wv.__getitem__() instead).\n",
      "  \"\"\"Entry point for launching an IPython kernel.\n"
     ]
    },
    {
     "data": {
      "text/plain": [
       "200"
      ]
     },
     "execution_count": 1995,
     "metadata": {},
     "output_type": "execute_result"
    }
   ],
   "source": [
    "len(model_w2v['coronavírus'])"
   ]
  },
  {
   "cell_type": "code",
   "execution_count": 1996,
   "metadata": {},
   "outputs": [],
   "source": [
    "def word_vector(tokens, size):\n",
    "    vec = np.zeros(size).reshape((1, size))\n",
    "    count = 0.\n",
    "    for word in tokens:\n",
    "        try:\n",
    "            vec += model_w2v[word].reshape((1, size))\n",
    "            count += 1.\n",
    "        except KeyError:\n",
    "            continue\n",
    "    if count != 0:\n",
    "        vec /= count\n",
    "    return vec"
   ]
  },
  {
   "cell_type": "code",
   "execution_count": 1997,
   "metadata": {},
   "outputs": [],
   "source": [
    "wordvec_arrays = np.zeros((len(tokenized_titulos), 200))"
   ]
  },
  {
   "cell_type": "code",
   "execution_count": 1998,
   "metadata": {},
   "outputs": [
    {
     "data": {
      "text/plain": [
       "array([[0., 0., 0., ..., 0., 0., 0.],\n",
       "       [0., 0., 0., ..., 0., 0., 0.],\n",
       "       [0., 0., 0., ..., 0., 0., 0.],\n",
       "       ...,\n",
       "       [0., 0., 0., ..., 0., 0., 0.],\n",
       "       [0., 0., 0., ..., 0., 0., 0.],\n",
       "       [0., 0., 0., ..., 0., 0., 0.]])"
      ]
     },
     "execution_count": 1998,
     "metadata": {},
     "output_type": "execute_result"
    }
   ],
   "source": [
    "wordvec_arrays"
   ]
  },
  {
   "cell_type": "code",
   "execution_count": 1999,
   "metadata": {},
   "outputs": [
    {
     "name": "stderr",
     "output_type": "stream",
     "text": [
      "C:\\Users\\USUARIO\\Anaconda3\\lib\\site-packages\\ipykernel_launcher.py:6: DeprecationWarning: Call to deprecated `__getitem__` (Method will be removed in 4.0.0, use self.wv.__getitem__() instead).\n",
      "  \n"
     ]
    }
   ],
   "source": [
    "for i in range(len(tokenized_titulos)):\n",
    "    wordvec_arrays[i, :] = word_vector(tokenized_titulos[i], 200)\n",
    "    "
   ]
  },
  {
   "cell_type": "code",
   "execution_count": 2000,
   "metadata": {},
   "outputs": [],
   "source": [
    "from tqdm import tqdm\n",
    "from gensim.models.doc2vec import LabeledSentence\n"
   ]
  },
  {
   "cell_type": "code",
   "execution_count": 2001,
   "metadata": {},
   "outputs": [],
   "source": [
    "def add_label(twt):\n",
    "    output = []\n",
    "    for i, s in zip(twt.index, twt):\n",
    "        output.append(LabeledSentence(s, ['tweet_' + str(i)]))\n",
    "    return output"
   ]
  },
  {
   "cell_type": "code",
   "execution_count": 2002,
   "metadata": {},
   "outputs": [
    {
     "name": "stderr",
     "output_type": "stream",
     "text": [
      "C:\\Users\\USUARIO\\Anaconda3\\lib\\site-packages\\ipykernel_launcher.py:4: DeprecationWarning: Call to deprecated `LabeledSentence` (Class will be removed in 4.0.0, use TaggedDocument instead).\n",
      "  after removing the cwd from sys.path.\n"
     ]
    }
   ],
   "source": [
    "labeled_tweets = add_label(tokenized_titulos)"
   ]
  },
  {
   "cell_type": "code",
   "execution_count": 2003,
   "metadata": {},
   "outputs": [],
   "source": [
    "from gensim.models import Doc2Vec"
   ]
  },
  {
   "cell_type": "code",
   "execution_count": 2004,
   "metadata": {},
   "outputs": [],
   "source": [
    "model_d2v = Doc2Vec(\n",
    "    dm=1,\n",
    "    dm_mean=1,\n",
    "    vector_size=200,\n",
    "    window=5,\n",
    "    negative=7,\n",
    "    min_count=5,\n",
    "    workers=3,\n",
    "    alpha=0.1,\n",
    "    seed=23\n",
    ")"
   ]
  },
  {
   "cell_type": "code",
   "execution_count": 2005,
   "metadata": {},
   "outputs": [
    {
     "name": "stderr",
     "output_type": "stream",
     "text": [
      "100%|████████████████████████████████████████████████████████████████████████████| 304/304 [00:00<00:00, 304384.92it/s]\n",
      "2020-04-09 10:20:09,052 INFO collecting all words and their counts\n",
      "2020-04-09 10:20:09,054 INFO PROGRESS: at example #0, processed 0 words (0/s), 0 word types, 0 tags\n",
      "2020-04-09 10:20:09,059 INFO collected 1529 word types and 304 unique tags from a corpus of 304 examples and 4110 words\n",
      "2020-04-09 10:20:09,061 INFO Loading a fresh vocabulary\n",
      "2020-04-09 10:20:09,066 INFO effective_min_count=5 retains 119 unique words (7% of original 1529, drops 1410)\n",
      "2020-04-09 10:20:09,067 INFO effective_min_count=5 leaves 2274 word corpus (55% of original 4110, drops 1836)\n",
      "2020-04-09 10:20:09,070 INFO deleting the raw counts dictionary of 1529 items\n",
      "2020-04-09 10:20:09,072 INFO sample=0.001 downsamples 97 most-common words\n",
      "2020-04-09 10:20:09,073 INFO downsampling leaves estimated 929 word corpus (40.9% of prior 2274)\n",
      "2020-04-09 10:20:09,075 INFO estimated required memory for 119 words and 200 dimensions: 553900 bytes\n",
      "2020-04-09 10:20:09,077 INFO resetting layer weights\n"
     ]
    }
   ],
   "source": [
    "model_d2v.build_vocab( [i for i in tqdm(labeled_tweets)] )"
   ]
  },
  {
   "cell_type": "code",
   "execution_count": 2006,
   "metadata": {},
   "outputs": [
    {
     "name": "stderr",
     "output_type": "stream",
     "text": [
      "2020-04-09 10:20:09,110 INFO training model with 3 workers on 119 vocabulary and 200 features, using sg=0 hs=0 sample=0.001 negative=7 window=5\n",
      "2020-04-09 10:20:09,118 INFO worker thread finished; awaiting finish of 2 more threads\n",
      "2020-04-09 10:20:09,121 INFO worker thread finished; awaiting finish of 1 more threads\n",
      "2020-04-09 10:20:09,137 INFO worker thread finished; awaiting finish of 0 more threads\n",
      "2020-04-09 10:20:09,139 INFO EPOCH - 1 : training on 4110 raw words (1227 effective words) took 0.0s, 55336 effective words/s\n",
      "2020-04-09 10:20:09,148 INFO worker thread finished; awaiting finish of 2 more threads\n",
      "2020-04-09 10:20:09,150 INFO worker thread finished; awaiting finish of 1 more threads\n",
      "2020-04-09 10:20:09,168 INFO worker thread finished; awaiting finish of 0 more threads\n",
      "2020-04-09 10:20:09,170 INFO EPOCH - 2 : training on 4110 raw words (1250 effective words) took 0.0s, 54085 effective words/s\n",
      "2020-04-09 10:20:09,177 INFO worker thread finished; awaiting finish of 2 more threads\n",
      "2020-04-09 10:20:09,179 INFO worker thread finished; awaiting finish of 1 more threads\n",
      "2020-04-09 10:20:09,194 INFO worker thread finished; awaiting finish of 0 more threads\n",
      "2020-04-09 10:20:09,196 INFO EPOCH - 3 : training on 4110 raw words (1231 effective words) took 0.0s, 59671 effective words/s\n",
      "2020-04-09 10:20:09,203 INFO worker thread finished; awaiting finish of 2 more threads\n",
      "2020-04-09 10:20:09,204 INFO worker thread finished; awaiting finish of 1 more threads\n",
      "2020-04-09 10:20:09,223 INFO worker thread finished; awaiting finish of 0 more threads\n",
      "2020-04-09 10:20:09,226 INFO EPOCH - 4 : training on 4110 raw words (1247 effective words) took 0.0s, 50547 effective words/s\n",
      "2020-04-09 10:20:09,234 INFO worker thread finished; awaiting finish of 2 more threads\n",
      "2020-04-09 10:20:09,235 INFO worker thread finished; awaiting finish of 1 more threads\n",
      "2020-04-09 10:20:09,252 INFO worker thread finished; awaiting finish of 0 more threads\n",
      "2020-04-09 10:20:09,254 INFO EPOCH - 5 : training on 4110 raw words (1238 effective words) took 0.0s, 58413 effective words/s\n",
      "2020-04-09 10:20:09,261 INFO worker thread finished; awaiting finish of 2 more threads\n",
      "2020-04-09 10:20:09,263 INFO worker thread finished; awaiting finish of 1 more threads\n",
      "2020-04-09 10:20:09,279 INFO worker thread finished; awaiting finish of 0 more threads\n",
      "2020-04-09 10:20:09,281 INFO EPOCH - 6 : training on 4110 raw words (1247 effective words) took 0.0s, 59783 effective words/s\n",
      "2020-04-09 10:20:09,290 INFO worker thread finished; awaiting finish of 2 more threads\n",
      "2020-04-09 10:20:09,292 INFO worker thread finished; awaiting finish of 1 more threads\n",
      "2020-04-09 10:20:09,313 INFO worker thread finished; awaiting finish of 0 more threads\n",
      "2020-04-09 10:20:09,314 INFO EPOCH - 7 : training on 4110 raw words (1248 effective words) took 0.0s, 49189 effective words/s\n",
      "2020-04-09 10:20:09,320 INFO worker thread finished; awaiting finish of 2 more threads\n",
      "2020-04-09 10:20:09,322 INFO worker thread finished; awaiting finish of 1 more threads\n",
      "2020-04-09 10:20:09,339 INFO worker thread finished; awaiting finish of 0 more threads\n",
      "2020-04-09 10:20:09,341 INFO EPOCH - 8 : training on 4110 raw words (1226 effective words) took 0.0s, 56134 effective words/s\n",
      "2020-04-09 10:20:09,349 INFO worker thread finished; awaiting finish of 2 more threads\n",
      "2020-04-09 10:20:09,353 INFO worker thread finished; awaiting finish of 1 more threads\n",
      "2020-04-09 10:20:09,369 INFO worker thread finished; awaiting finish of 0 more threads\n",
      "2020-04-09 10:20:09,371 INFO EPOCH - 9 : training on 4110 raw words (1236 effective words) took 0.0s, 53847 effective words/s\n",
      "2020-04-09 10:20:09,378 INFO worker thread finished; awaiting finish of 2 more threads\n",
      "2020-04-09 10:20:09,379 INFO worker thread finished; awaiting finish of 1 more threads\n",
      "2020-04-09 10:20:09,398 INFO worker thread finished; awaiting finish of 0 more threads\n",
      "2020-04-09 10:20:09,401 INFO EPOCH - 10 : training on 4110 raw words (1230 effective words) took 0.0s, 51086 effective words/s\n",
      "2020-04-09 10:20:09,411 INFO worker thread finished; awaiting finish of 2 more threads\n",
      "2020-04-09 10:20:09,413 INFO worker thread finished; awaiting finish of 1 more threads\n",
      "2020-04-09 10:20:09,430 INFO worker thread finished; awaiting finish of 0 more threads\n",
      "2020-04-09 10:20:09,431 INFO EPOCH - 11 : training on 4110 raw words (1223 effective words) took 0.0s, 52485 effective words/s\n",
      "2020-04-09 10:20:09,439 INFO worker thread finished; awaiting finish of 2 more threads\n",
      "2020-04-09 10:20:09,441 INFO worker thread finished; awaiting finish of 1 more threads\n",
      "2020-04-09 10:20:09,461 INFO worker thread finished; awaiting finish of 0 more threads\n",
      "2020-04-09 10:20:09,463 INFO EPOCH - 12 : training on 4110 raw words (1277 effective words) took 0.0s, 50455 effective words/s\n",
      "2020-04-09 10:20:09,471 INFO worker thread finished; awaiting finish of 2 more threads\n",
      "2020-04-09 10:20:09,473 INFO worker thread finished; awaiting finish of 1 more threads\n",
      "2020-04-09 10:20:09,489 INFO worker thread finished; awaiting finish of 0 more threads\n",
      "2020-04-09 10:20:09,491 INFO EPOCH - 13 : training on 4110 raw words (1215 effective words) took 0.0s, 57574 effective words/s\n",
      "2020-04-09 10:20:09,497 INFO worker thread finished; awaiting finish of 2 more threads\n",
      "2020-04-09 10:20:09,499 INFO worker thread finished; awaiting finish of 1 more threads\n",
      "2020-04-09 10:20:09,518 INFO worker thread finished; awaiting finish of 0 more threads\n",
      "2020-04-09 10:20:09,520 INFO EPOCH - 14 : training on 4110 raw words (1245 effective words) took 0.0s, 52852 effective words/s\n",
      "2020-04-09 10:20:09,529 INFO worker thread finished; awaiting finish of 2 more threads\n",
      "2020-04-09 10:20:09,532 INFO worker thread finished; awaiting finish of 1 more threads\n",
      "2020-04-09 10:20:09,548 INFO worker thread finished; awaiting finish of 0 more threads\n",
      "2020-04-09 10:20:09,550 INFO EPOCH - 15 : training on 4110 raw words (1248 effective words) took 0.0s, 57909 effective words/s\n",
      "2020-04-09 10:20:09,552 INFO training on a 61650 raw words (18588 effective words) took 0.4s, 42254 effective words/s\n",
      "2020-04-09 10:20:09,553 WARNING under 10 jobs per worker: consider setting a smaller `batch_words' for smoother alpha decay\n"
     ]
    }
   ],
   "source": [
    "model_d2v.train(labeled_tweets, total_examples=len(df['titulo']), epochs=15)"
   ]
  },
  {
   "cell_type": "code",
   "execution_count": 2007,
   "metadata": {},
   "outputs": [],
   "source": [
    "docvec_arrays = np.zeros((len(tokenized_titulos), 200))"
   ]
  },
  {
   "cell_type": "code",
   "execution_count": 2008,
   "metadata": {},
   "outputs": [],
   "source": [
    "for i in range(len(df)):\n",
    "    docvec_arrays[i, :] = model_d2v.docvecs[i].reshape((1, 200))"
   ]
  },
  {
   "cell_type": "code",
   "execution_count": 2009,
   "metadata": {},
   "outputs": [],
   "source": [
    "docvec_df = pd.DataFrame(docvec_arrays)"
   ]
  },
  {
   "cell_type": "code",
   "execution_count": 2010,
   "metadata": {},
   "outputs": [
    {
     "data": {
      "text/html": [
       "<div>\n",
       "<style scoped>\n",
       "    .dataframe tbody tr th:only-of-type {\n",
       "        vertical-align: middle;\n",
       "    }\n",
       "\n",
       "    .dataframe tbody tr th {\n",
       "        vertical-align: top;\n",
       "    }\n",
       "\n",
       "    .dataframe thead th {\n",
       "        text-align: right;\n",
       "    }\n",
       "</style>\n",
       "<table border=\"1\" class=\"dataframe\">\n",
       "  <thead>\n",
       "    <tr style=\"text-align: right;\">\n",
       "      <th></th>\n",
       "      <th>0</th>\n",
       "      <th>1</th>\n",
       "      <th>2</th>\n",
       "      <th>3</th>\n",
       "      <th>4</th>\n",
       "      <th>5</th>\n",
       "      <th>6</th>\n",
       "      <th>7</th>\n",
       "      <th>8</th>\n",
       "      <th>9</th>\n",
       "      <th>...</th>\n",
       "      <th>190</th>\n",
       "      <th>191</th>\n",
       "      <th>192</th>\n",
       "      <th>193</th>\n",
       "      <th>194</th>\n",
       "      <th>195</th>\n",
       "      <th>196</th>\n",
       "      <th>197</th>\n",
       "      <th>198</th>\n",
       "      <th>199</th>\n",
       "    </tr>\n",
       "  </thead>\n",
       "  <tbody>\n",
       "    <tr>\n",
       "      <th>0</th>\n",
       "      <td>0.061944</td>\n",
       "      <td>0.054060</td>\n",
       "      <td>0.001370</td>\n",
       "      <td>0.047980</td>\n",
       "      <td>-0.010790</td>\n",
       "      <td>-0.043863</td>\n",
       "      <td>-0.079753</td>\n",
       "      <td>-0.051474</td>\n",
       "      <td>0.007039</td>\n",
       "      <td>0.046167</td>\n",
       "      <td>...</td>\n",
       "      <td>0.028341</td>\n",
       "      <td>0.021760</td>\n",
       "      <td>0.031015</td>\n",
       "      <td>-0.030728</td>\n",
       "      <td>0.112770</td>\n",
       "      <td>0.042552</td>\n",
       "      <td>0.052555</td>\n",
       "      <td>0.004654</td>\n",
       "      <td>0.027285</td>\n",
       "      <td>0.082166</td>\n",
       "    </tr>\n",
       "    <tr>\n",
       "      <th>1</th>\n",
       "      <td>0.035694</td>\n",
       "      <td>0.031097</td>\n",
       "      <td>0.000646</td>\n",
       "      <td>0.024568</td>\n",
       "      <td>-0.004049</td>\n",
       "      <td>-0.023577</td>\n",
       "      <td>-0.047602</td>\n",
       "      <td>-0.026493</td>\n",
       "      <td>0.005422</td>\n",
       "      <td>0.023910</td>\n",
       "      <td>...</td>\n",
       "      <td>0.014907</td>\n",
       "      <td>0.015902</td>\n",
       "      <td>0.015512</td>\n",
       "      <td>-0.017921</td>\n",
       "      <td>0.064476</td>\n",
       "      <td>0.024934</td>\n",
       "      <td>0.027864</td>\n",
       "      <td>0.004875</td>\n",
       "      <td>0.012427</td>\n",
       "      <td>0.049015</td>\n",
       "    </tr>\n",
       "    <tr>\n",
       "      <th>2</th>\n",
       "      <td>0.049172</td>\n",
       "      <td>0.044396</td>\n",
       "      <td>-0.000264</td>\n",
       "      <td>0.035385</td>\n",
       "      <td>-0.010643</td>\n",
       "      <td>-0.036241</td>\n",
       "      <td>-0.068551</td>\n",
       "      <td>-0.043833</td>\n",
       "      <td>0.006418</td>\n",
       "      <td>0.038179</td>\n",
       "      <td>...</td>\n",
       "      <td>0.025009</td>\n",
       "      <td>0.020577</td>\n",
       "      <td>0.025324</td>\n",
       "      <td>-0.025979</td>\n",
       "      <td>0.094228</td>\n",
       "      <td>0.035138</td>\n",
       "      <td>0.044512</td>\n",
       "      <td>0.007778</td>\n",
       "      <td>0.020718</td>\n",
       "      <td>0.069334</td>\n",
       "    </tr>\n",
       "    <tr>\n",
       "      <th>3</th>\n",
       "      <td>0.051602</td>\n",
       "      <td>0.045073</td>\n",
       "      <td>0.002276</td>\n",
       "      <td>0.036885</td>\n",
       "      <td>-0.006769</td>\n",
       "      <td>-0.037779</td>\n",
       "      <td>-0.063825</td>\n",
       "      <td>-0.041386</td>\n",
       "      <td>0.005026</td>\n",
       "      <td>0.034926</td>\n",
       "      <td>...</td>\n",
       "      <td>0.022255</td>\n",
       "      <td>0.022924</td>\n",
       "      <td>0.021064</td>\n",
       "      <td>-0.024469</td>\n",
       "      <td>0.087667</td>\n",
       "      <td>0.032579</td>\n",
       "      <td>0.044730</td>\n",
       "      <td>0.005401</td>\n",
       "      <td>0.020940</td>\n",
       "      <td>0.065209</td>\n",
       "    </tr>\n",
       "    <tr>\n",
       "      <th>4</th>\n",
       "      <td>0.067123</td>\n",
       "      <td>0.060837</td>\n",
       "      <td>0.001261</td>\n",
       "      <td>0.050685</td>\n",
       "      <td>-0.007161</td>\n",
       "      <td>-0.054158</td>\n",
       "      <td>-0.094832</td>\n",
       "      <td>-0.058043</td>\n",
       "      <td>0.005099</td>\n",
       "      <td>0.054447</td>\n",
       "      <td>...</td>\n",
       "      <td>0.034156</td>\n",
       "      <td>0.026637</td>\n",
       "      <td>0.032400</td>\n",
       "      <td>-0.036911</td>\n",
       "      <td>0.124799</td>\n",
       "      <td>0.047349</td>\n",
       "      <td>0.063494</td>\n",
       "      <td>0.011503</td>\n",
       "      <td>0.033002</td>\n",
       "      <td>0.090887</td>\n",
       "    </tr>\n",
       "  </tbody>\n",
       "</table>\n",
       "<p>5 rows × 200 columns</p>\n",
       "</div>"
      ],
      "text/plain": [
       "        0         1         2         3         4         5         6    \\\n",
       "0  0.061944  0.054060  0.001370  0.047980 -0.010790 -0.043863 -0.079753   \n",
       "1  0.035694  0.031097  0.000646  0.024568 -0.004049 -0.023577 -0.047602   \n",
       "2  0.049172  0.044396 -0.000264  0.035385 -0.010643 -0.036241 -0.068551   \n",
       "3  0.051602  0.045073  0.002276  0.036885 -0.006769 -0.037779 -0.063825   \n",
       "4  0.067123  0.060837  0.001261  0.050685 -0.007161 -0.054158 -0.094832   \n",
       "\n",
       "        7         8         9    ...       190       191       192       193  \\\n",
       "0 -0.051474  0.007039  0.046167  ...  0.028341  0.021760  0.031015 -0.030728   \n",
       "1 -0.026493  0.005422  0.023910  ...  0.014907  0.015902  0.015512 -0.017921   \n",
       "2 -0.043833  0.006418  0.038179  ...  0.025009  0.020577  0.025324 -0.025979   \n",
       "3 -0.041386  0.005026  0.034926  ...  0.022255  0.022924  0.021064 -0.024469   \n",
       "4 -0.058043  0.005099  0.054447  ...  0.034156  0.026637  0.032400 -0.036911   \n",
       "\n",
       "        194       195       196       197       198       199  \n",
       "0  0.112770  0.042552  0.052555  0.004654  0.027285  0.082166  \n",
       "1  0.064476  0.024934  0.027864  0.004875  0.012427  0.049015  \n",
       "2  0.094228  0.035138  0.044512  0.007778  0.020718  0.069334  \n",
       "3  0.087667  0.032579  0.044730  0.005401  0.020940  0.065209  \n",
       "4  0.124799  0.047349  0.063494  0.011503  0.033002  0.090887  \n",
       "\n",
       "[5 rows x 200 columns]"
      ]
     },
     "execution_count": 2010,
     "metadata": {},
     "output_type": "execute_result"
    }
   ],
   "source": [
    "docvec_df.head()"
   ]
  },
  {
   "cell_type": "code",
   "execution_count": 2011,
   "metadata": {},
   "outputs": [
    {
     "data": {
      "text/plain": [
       "(304, 200)"
      ]
     },
     "execution_count": 2011,
     "metadata": {},
     "output_type": "execute_result"
    }
   ],
   "source": [
    "docvec_df.shape"
   ]
  },
  {
   "cell_type": "code",
   "execution_count": 2012,
   "metadata": {},
   "outputs": [],
   "source": [
    "from sklearn.model_selection import train_test_split\n",
    "from sklearn.linear_model import LogisticRegression\n",
    "from sklearn.metrics import f1_score"
   ]
  },
  {
   "cell_type": "code",
   "execution_count": 2013,
   "metadata": {},
   "outputs": [],
   "source": [
    "bow_vectorizer = CountVectorizer(max_df=.90, min_df=2, max_features=1000)"
   ]
  },
  {
   "cell_type": "code",
   "execution_count": 2014,
   "metadata": {},
   "outputs": [],
   "source": [
    "bow = bow_vectorizer.fit_transform(df['titulo'])"
   ]
  },
  {
   "cell_type": "code",
   "execution_count": 2015,
   "metadata": {},
   "outputs": [],
   "source": [
    "train_bow = bow[:31962, :]\n",
    "test_bow = bow[31962:, :]"
   ]
  },
  {
   "cell_type": "code",
   "execution_count": null,
   "metadata": {},
   "outputs": [],
   "source": []
  },
  {
   "cell_type": "code",
   "execution_count": 2016,
   "metadata": {},
   "outputs": [],
   "source": [
    "X_train_bow, X_test_bow, y_train, y_test = train_test_split(train_bow, df['classes'],test_size=.3, random_state=42)"
   ]
  },
  {
   "cell_type": "code",
   "execution_count": 2017,
   "metadata": {},
   "outputs": [],
   "source": [
    "lr = LogisticRegression()"
   ]
  },
  {
   "cell_type": "code",
   "execution_count": 2018,
   "metadata": {},
   "outputs": [
    {
     "data": {
      "text/plain": [
       "LogisticRegression(C=1.0, class_weight=None, dual=False, fit_intercept=True,\n",
       "                   intercept_scaling=1, l1_ratio=None, max_iter=100,\n",
       "                   multi_class='auto', n_jobs=None, penalty='l2',\n",
       "                   random_state=None, solver='lbfgs', tol=0.0001, verbose=0,\n",
       "                   warm_start=False)"
      ]
     },
     "execution_count": 2018,
     "metadata": {},
     "output_type": "execute_result"
    }
   ],
   "source": [
    "lr.fit(X_train_bow, y_train)"
   ]
  },
  {
   "cell_type": "code",
   "execution_count": 2019,
   "metadata": {},
   "outputs": [],
   "source": [
    "pred = lr.predict_proba(X_test_bow)"
   ]
  },
  {
   "cell_type": "code",
   "execution_count": 2020,
   "metadata": {},
   "outputs": [],
   "source": [
    "pred_int = pred[:, 1] >= 0.3"
   ]
  },
  {
   "cell_type": "code",
   "execution_count": 2021,
   "metadata": {},
   "outputs": [],
   "source": [
    "pred_int = pred_int.astype(np.int)"
   ]
  },
  {
   "cell_type": "code",
   "execution_count": 2022,
   "metadata": {},
   "outputs": [],
   "source": [
    "import logging\n",
    "import numpy as np\n",
    "from optparse import OptionParser\n",
    "import sys\n",
    "from time import time\n",
    "import matplotlib.pyplot as plt\n",
    "\n",
    "from sklearn.datasets import fetch_20newsgroups\n",
    "from sklearn.feature_extraction.text import TfidfVectorizer\n",
    "from sklearn.feature_extraction.text import HashingVectorizer\n",
    "from sklearn.feature_selection import SelectFromModel\n",
    "from sklearn.feature_selection import SelectKBest, chi2\n",
    "from sklearn.linear_model import RidgeClassifier\n",
    "from sklearn.pipeline import Pipeline\n",
    "from sklearn.svm import LinearSVC\n",
    "from sklearn.linear_model import SGDClassifier\n",
    "from sklearn.linear_model import Perceptron\n",
    "from sklearn.linear_model import PassiveAggressiveClassifier\n",
    "from sklearn.naive_bayes import BernoulliNB, ComplementNB, MultinomialNB\n",
    "from sklearn.neighbors import KNeighborsClassifier\n",
    "from sklearn.neighbors import NearestCentroid\n",
    "from sklearn.ensemble import RandomForestClassifier\n",
    "from sklearn.utils.extmath import density\n",
    "from sklearn import metrics"
   ]
  },
  {
   "cell_type": "code",
   "execution_count": 2113,
   "metadata": {},
   "outputs": [],
   "source": [
    "# Construindo exemplos para treinamento e teste\n",
    "X_train, X_test, y_train, y_test = train_test_split(texto, classe, test_size=0.4,random_state=40)\n",
    "\n",
    "if opts.use_hashing:\n",
    "    vectorizer = CountVectorizer(ngram_range=(1,1))\n",
    "    X_train_vect = vectorizer.transform(X_train)\n",
    "    \n",
    "else:\n",
    "    vectorizer = TfidfVectorizer(max_df=.90, min_df=2, max_features=1119)\n",
    "    X_train_vect = vectorizer.fit_transform(X_train)\n",
    "\n",
    "X_test_vect = vectorizer.transform(X_test)\n",
    "\n",
    "# mapping from integer feature name to original token string\n",
    "if opts.use_hashing:\n",
    "    feature_names = None\n",
    "else:\n",
    "    feature_names = vectorizer.get_feature_names()\n",
    "\n",
    "if opts.select_chi2:\n",
    "    print(\"Extracting %d best features by a chi-squared test\" %\n",
    "          opts.select_chi2)\n",
    "    t0 = time()\n",
    "    ch2 = SelectKBest(chi2, k=opts.select_chi2)\n",
    "    X_train = ch2.fit_transform(X_train, y_train)\n",
    "    X_test = ch2.transform(X_test)\n",
    "    if feature_names:\n",
    "        # keep selected feature names\n",
    "        feature_names = [feature_names[i] for i\n",
    "                         in ch2.get_support(indices=True)]\n",
    "    print(\"done in %fs\" % (time() - t0))\n",
    "    print()\n",
    "\n",
    "if feature_names:\n",
    "    feature_names = np.asarray(feature_names)\n",
    "\n",
    "\n",
    "def trim(s):\n",
    "    \"\"\"Trim string to fit on terminal (assuming 80-column display)\"\"\"\n",
    "    return s if len(s) <= 80 else s[:77] + \"...\""
   ]
  },
  {
   "cell_type": "code",
   "execution_count": 2114,
   "metadata": {},
   "outputs": [],
   "source": [
    "def benchmark(clf):\n",
    "    print('_' * 80)\n",
    "    print(\"Training: \")\n",
    "    print(clf)\n",
    "    clf.fit(X_train_vect, y_train)\n",
    "    #train_time = time() - t0\n",
    "    #print(\"train time: %0.3fs\" % train_time)\n",
    "\n",
    "    \n",
    "    pred = clf.predict(X_test_vect)\n",
    "    #test_time = time() - t0\n",
    "    #print(\"test time:  %0.3fs\" % test_time)\n",
    "\n",
    "    score = metrics.accuracy_score(y_test, pred)\n",
    "    print(\"accuracy:   %0.3f\" % score)\n",
    "\n",
    "    if hasattr(clf, 'coef_'):\n",
    "        print(\"dimensionality: %d\" % clf.coef_.shape[1])\n",
    "        print(\"density: %f\" % density(clf.coef_))\n",
    "\n",
    "        if opts.print_top10 and feature_names is not None:\n",
    "            print(\"top 10 keywords per class:\")\n",
    "            for i, label in enumerate(target_names):\n",
    "                top10 = np.argsort(clf.coef_[i])[-10:]\n",
    "                print(trim(\"%s: %s\" % (label, \" \".join(feature_names[top10]))))\n",
    "        print()\n",
    "\n",
    "    if opts.print_report:\n",
    "        print(\"classification report:\")\n",
    "        print(metrics.classification_report(y_test, pred,\n",
    "                                            target_names=target_names))\n",
    "\n",
    "    if opts.print_cm:\n",
    "        print(\"confusion matrix:\")\n",
    "        print(metrics.confusion_matrix(y_test, pred))\n",
    "\n",
    "    print()\n",
    "    clf_descr = str(clf).split('(')[0]\n",
    "    return clf_descr, score\n",
    "\n",
    "\n",
    "results = []\n"
   ]
  },
  {
   "cell_type": "code",
   "execution_count": 2115,
   "metadata": {},
   "outputs": [
    {
     "name": "stdout",
     "output_type": "stream",
     "text": [
      "================================================================================\n",
      "Ridge Classifier\n",
      "________________________________________________________________________________\n",
      "Training: \n",
      "RidgeClassifier(alpha=1.0, class_weight=None, copy_X=True, fit_intercept=True,\n",
      "                max_iter=None, normalize=False, random_state=None, solver='sag',\n",
      "                tol=0.01)\n",
      "accuracy:   0.697\n",
      "dimensionality: 204\n",
      "density: 1.000000\n",
      "\n",
      "\n",
      "================================================================================\n",
      "Perceptron\n",
      "________________________________________________________________________________\n",
      "Training: \n",
      "Perceptron(alpha=0.0001, class_weight=None, early_stopping=False, eta0=1.0,\n",
      "           fit_intercept=True, max_iter=50, n_iter_no_change=5, n_jobs=None,\n",
      "           penalty=None, random_state=0, shuffle=True, tol=0.001,\n",
      "           validation_fraction=0.1, verbose=0, warm_start=False)\n",
      "accuracy:   0.664\n",
      "dimensionality: 204\n",
      "density: 0.906863\n",
      "\n",
      "\n",
      "================================================================================\n",
      "Passive-Aggressive\n",
      "________________________________________________________________________________\n",
      "Training: \n",
      "PassiveAggressiveClassifier(C=1.0, average=False, class_weight=None,\n",
      "                            early_stopping=False, fit_intercept=True,\n",
      "                            loss='hinge', max_iter=50, n_iter_no_change=5,\n",
      "                            n_jobs=None, random_state=None, shuffle=True,\n",
      "                            tol=0.001, validation_fraction=0.1, verbose=0,\n",
      "                            warm_start=False)\n",
      "accuracy:   0.680\n",
      "dimensionality: 204\n",
      "density: 0.995098\n",
      "\n",
      "\n",
      "================================================================================\n",
      "kNN\n",
      "________________________________________________________________________________\n",
      "Training: \n",
      "KNeighborsClassifier(algorithm='auto', leaf_size=30, metric='minkowski',\n",
      "                     metric_params=None, n_jobs=None, n_neighbors=10, p=2,\n",
      "                     weights='uniform')\n",
      "accuracy:   0.607\n",
      "\n",
      "================================================================================\n",
      "Random forest\n",
      "________________________________________________________________________________\n",
      "Training: \n",
      "RandomForestClassifier(bootstrap=True, ccp_alpha=0.0, class_weight=None,\n",
      "                       criterion='gini', max_depth=None, max_features='auto',\n",
      "                       max_leaf_nodes=None, max_samples=None,\n",
      "                       min_impurity_decrease=0.0, min_impurity_split=None,\n",
      "                       min_samples_leaf=1, min_samples_split=2,\n",
      "                       min_weight_fraction_leaf=0.0, n_estimators=100,\n",
      "                       n_jobs=None, oob_score=False, random_state=None,\n",
      "                       verbose=0, warm_start=False)\n"
     ]
    },
    {
     "name": "stderr",
     "output_type": "stream",
     "text": [
      "C:\\Users\\USUARIO\\Anaconda3\\lib\\site-packages\\sklearn\\linear_model\\_ridge.py:558: UserWarning: \"sag\" solver requires many iterations to fit an intercept with sparse inputs. Either set the solver to \"auto\" or \"sparse_cg\", or set a low \"tol\" and a high \"max_iter\" (especially if inputs are not standardized).\n",
      "  '\"sag\" solver requires many iterations to fit '\n"
     ]
    },
    {
     "name": "stdout",
     "output_type": "stream",
     "text": [
      "accuracy:   0.754\n",
      "\n",
      "================================================================================\n",
      "L2 penalty\n",
      "________________________________________________________________________________\n",
      "Training: \n",
      "LinearSVC(C=1.0, class_weight=None, dual=False, fit_intercept=True,\n",
      "          intercept_scaling=1, loss='squared_hinge', max_iter=1000,\n",
      "          multi_class='ovr', penalty='l2', random_state=None, tol=0.001,\n",
      "          verbose=0)\n",
      "accuracy:   0.689\n",
      "dimensionality: 204\n",
      "density: 1.000000\n",
      "\n",
      "\n",
      "________________________________________________________________________________\n",
      "Training: \n",
      "SGDClassifier(alpha=0.0001, average=False, class_weight=None,\n",
      "              early_stopping=False, epsilon=0.1, eta0=0.0, fit_intercept=True,\n",
      "              l1_ratio=0.15, learning_rate='optimal', loss='hinge', max_iter=50,\n",
      "              n_iter_no_change=5, n_jobs=None, penalty='l2', power_t=0.5,\n",
      "              random_state=None, shuffle=True, tol=0.001,\n",
      "              validation_fraction=0.1, verbose=0, warm_start=False)\n",
      "accuracy:   0.672\n",
      "dimensionality: 204\n",
      "density: 0.946078\n",
      "\n",
      "\n",
      "================================================================================\n",
      "L1 penalty\n",
      "________________________________________________________________________________\n",
      "Training: \n",
      "LinearSVC(C=1.0, class_weight=None, dual=False, fit_intercept=True,\n",
      "          intercept_scaling=1, loss='squared_hinge', max_iter=1000,\n",
      "          multi_class='ovr', penalty='l1', random_state=None, tol=0.001,\n",
      "          verbose=0)\n",
      "accuracy:   0.689\n",
      "dimensionality: 204\n",
      "density: 0.382353\n",
      "\n",
      "\n",
      "________________________________________________________________________________\n",
      "Training: \n",
      "SGDClassifier(alpha=0.0001, average=False, class_weight=None,\n",
      "              early_stopping=False, epsilon=0.1, eta0=0.0, fit_intercept=True,\n",
      "              l1_ratio=0.15, learning_rate='optimal', loss='hinge', max_iter=50,\n",
      "              n_iter_no_change=5, n_jobs=None, penalty='l1', power_t=0.5,\n",
      "              random_state=None, shuffle=True, tol=0.001,\n",
      "              validation_fraction=0.1, verbose=0, warm_start=False)\n",
      "accuracy:   0.689\n",
      "dimensionality: 204\n",
      "density: 0.838235\n",
      "\n",
      "\n",
      "================================================================================\n",
      "Elastic-Net penalty\n",
      "________________________________________________________________________________\n",
      "Training: \n",
      "SGDClassifier(alpha=0.0001, average=False, class_weight=None,\n",
      "              early_stopping=False, epsilon=0.1, eta0=0.0, fit_intercept=True,\n",
      "              l1_ratio=0.15, learning_rate='optimal', loss='hinge', max_iter=50,\n",
      "              n_iter_no_change=5, n_jobs=None, penalty='elasticnet',\n",
      "              power_t=0.5, random_state=None, shuffle=True, tol=0.001,\n",
      "              validation_fraction=0.1, verbose=0, warm_start=False)\n",
      "accuracy:   0.697\n",
      "dimensionality: 204\n",
      "density: 0.941176\n",
      "\n",
      "\n",
      "================================================================================\n",
      "NearestCentroid (aka Rocchio classifier)\n",
      "________________________________________________________________________________\n",
      "Training: \n",
      "NearestCentroid(metric='euclidean', shrink_threshold=None)\n",
      "accuracy:   0.689\n",
      "\n",
      "================================================================================\n",
      "Naive Bayes\n",
      "________________________________________________________________________________\n",
      "Training: \n",
      "MultinomialNB(alpha=0.01, class_prior=None, fit_prior=True)\n",
      "accuracy:   0.754\n",
      "dimensionality: 204\n",
      "density: 1.000000\n",
      "\n",
      "\n",
      "________________________________________________________________________________\n",
      "Training: \n",
      "BernoulliNB(alpha=0.01, binarize=0.0, class_prior=None, fit_prior=True)\n",
      "accuracy:   0.721\n",
      "dimensionality: 204\n",
      "density: 1.000000\n",
      "\n",
      "\n",
      "________________________________________________________________________________\n",
      "Training: \n",
      "ComplementNB(alpha=0.1, class_prior=None, fit_prior=True, norm=False)\n",
      "accuracy:   0.656\n",
      "dimensionality: 204\n",
      "density: 1.000000\n",
      "\n",
      "\n",
      "================================================================================\n",
      "LinearSVC with L1-based feature selection\n",
      "________________________________________________________________________________\n",
      "Training: \n",
      "Pipeline(memory=None,\n",
      "         steps=[('feature_selection',\n",
      "                 SelectFromModel(estimator=LinearSVC(C=1.0, class_weight=None,\n",
      "                                                     dual=False,\n",
      "                                                     fit_intercept=True,\n",
      "                                                     intercept_scaling=1,\n",
      "                                                     loss='squared_hinge',\n",
      "                                                     max_iter=1000,\n",
      "                                                     multi_class='ovr',\n",
      "                                                     penalty='l1',\n",
      "                                                     random_state=None,\n",
      "                                                     tol=0.001, verbose=0),\n",
      "                                 max_features=None, norm_order=1, prefit=False,\n",
      "                                 threshold=None)),\n",
      "                ('classification',\n",
      "                 LinearSVC(C=1.0, class_weight=None, dual=True,\n",
      "                           fit_intercept=True, intercept_scaling=1,\n",
      "                           loss='squared_hinge', max_iter=1000,\n",
      "                           multi_class='ovr', penalty='l2', random_state=None,\n",
      "                           tol=0.0001, verbose=0))],\n",
      "         verbose=False)\n",
      "accuracy:   0.754\n",
      "\n"
     ]
    }
   ],
   "source": [
    "for clf, name in (\n",
    "        (RidgeClassifier(tol=1e-2, solver=\"sag\"), \"Ridge Classifier\"),\n",
    "        (Perceptron(max_iter=50), \"Perceptron\"),\n",
    "        (PassiveAggressiveClassifier(max_iter=50),\n",
    "         \"Passive-Aggressive\"),\n",
    "        (KNeighborsClassifier(n_neighbors=10), \"kNN\"),\n",
    "        (RandomForestClassifier(), \"Random forest\")):\n",
    "    print('=' * 80)\n",
    "    print(name)\n",
    "    results.append(benchmark(clf))\n",
    "\n",
    "for penalty in [\"l2\", \"l1\"]:\n",
    "    print('=' * 80)\n",
    "    print(\"%s penalty\" % penalty.upper())\n",
    "    # Train Liblinear model\n",
    "    results.append(benchmark(LinearSVC(penalty=penalty, dual=False,\n",
    "                                       tol=1e-3)))\n",
    "\n",
    "    # Train SGD model\n",
    "    results.append(benchmark(SGDClassifier(alpha=.0001, max_iter=50,\n",
    "                                           penalty=penalty)))\n",
    "\n",
    "# Train SGD with Elastic Net penalty\n",
    "print('=' * 80)\n",
    "print(\"Elastic-Net penalty\")\n",
    "results.append(benchmark(SGDClassifier(alpha=.0001, max_iter=50,\n",
    "                                       penalty=\"elasticnet\")))\n",
    "\n",
    "# Train NearestCentroid without threshold\n",
    "print('=' * 80)\n",
    "print(\"NearestCentroid (aka Rocchio classifier)\")\n",
    "results.append(benchmark(NearestCentroid()))\n",
    "\n",
    "# Train sparse Naive Bayes classifiers\n",
    "print('=' * 80)\n",
    "print(\"Naive Bayes\")\n",
    "results.append(benchmark(MultinomialNB(alpha=.01)))\n",
    "results.append(benchmark(BernoulliNB(alpha=.01)))\n",
    "results.append(benchmark(ComplementNB(alpha=.1)))\n",
    "\n",
    "print('=' * 80)\n",
    "print(\"LinearSVC with L1-based feature selection\")\n",
    "# The smaller C, the stronger the regularization.\n",
    "# The more regularization, the more sparsity.\n",
    "results.append(benchmark(Pipeline([\n",
    "  ('feature_selection', SelectFromModel(LinearSVC(penalty=\"l1\", dual=False,\n",
    "                                                  tol=1e-3))),\n",
    "  ('classification', LinearSVC(penalty=\"l2\"))])))"
   ]
  },
  {
   "cell_type": "code",
   "execution_count": 2157,
   "metadata": {},
   "outputs": [
    {
     "data": {
      "image/png": "[encoded data removed]",
      "text/plain": [
       "<Figure size 864x576 with 1 Axes>"
      ]
     },
     "metadata": {
      "needs_background": "light"
     },
     "output_type": "display_data"
    }
   ],
   "source": [
    "indices = np.arange(len(results))\n",
    "\n",
    "results = [[x[i] for x in results] for i in range(2)]\n",
    "\n",
    "clf_names, score = results\n",
    "\n",
    "plt.figure(figsize=(12, 8))\n",
    "plt.title(\"Score\")\n",
    "plt.barh(indices, score, .2, label=\"score\", color='navy')\n",
    "plt.yticks(())\n",
    "plt.legend(loc='best')\n",
    "for i, c in zip(indices, clf_names):\n",
    "    plt.text(-.3, i, c)\n",
    "\n",
    "plt.show()"
   ]
  },
  {
   "cell_type": "code",
   "execution_count": 2117,
   "metadata": {},
   "outputs": [
    {
     "data": {
      "text/plain": [
       "[('RidgeClassifier', 0.6967213114754098),\n",
       " ('Perceptron', 0.6639344262295082),\n",
       " ('PassiveAggressiveClassifier', 0.680327868852459),\n",
       " ('KNeighborsClassifier', 0.6065573770491803),\n",
       " ('RandomForestClassifier', 0.7540983606557377),\n",
       " ('LinearSVC', 0.6885245901639344),\n",
       " ('SGDClassifier', 0.6721311475409836),\n",
       " ('LinearSVC', 0.6885245901639344),\n",
       " ('SGDClassifier', 0.6885245901639344),\n",
       " ('SGDClassifier', 0.6967213114754098),\n",
       " ('NearestCentroid', 0.6885245901639344),\n",
       " ('MultinomialNB', 0.7540983606557377),\n",
       " ('BernoulliNB', 0.7213114754098361),\n",
       " ('ComplementNB', 0.6557377049180327),\n",
       " ('Pipeline', 0.7540983606557377)]"
      ]
     },
     "execution_count": 2117,
     "metadata": {},
     "output_type": "execute_result"
    }
   ],
   "source": [
    "results"
   ]
  },
  {
   "cell_type": "code",
   "execution_count": 2070,
   "metadata": {},
   "outputs": [
    {
     "data": {
      "text/plain": [
       "array([ 0,  1,  2,  3,  4,  5,  6,  7,  8,  9, 10, 11, 12, 13, 14, 15])"
      ]
     },
     "execution_count": 2070,
     "metadata": {},
     "output_type": "execute_result"
    }
   ],
   "source": [
    "indices"
   ]
  },
  {
   "cell_type": "code",
   "execution_count": 2085,
   "metadata": {},
   "outputs": [
    {
     "name": "stderr",
     "output_type": "stream",
     "text": [
      "C:\\Users\\USUARIO\\Anaconda3\\lib\\site-packages\\sklearn\\externals\\joblib\\__init__.py:15: FutureWarning: sklearn.externals.joblib is deprecated in 0.21 and will be removed in 0.23. Please import this functionality directly from joblib, which can be installed with: pip install joblib. If this warning is raised when loading pickled models, you may need to re-serialize those models with scikit-learn 0.21+.\n",
      "  warnings.warn(msg, category=FutureWarning)\n"
     ]
    }
   ],
   "source": [
    "from sklearn.externals import joblib"
   ]
  },
  {
   "cell_type": "code",
   "execution_count": 2130,
   "metadata": {},
   "outputs": [
    {
     "data": {
      "text/plain": [
       "Pipeline(memory=None,\n",
       "         steps=[('vect',\n",
       "                 CountVectorizer(analyzer='word', binary=False,\n",
       "                                 decode_error='strict',\n",
       "                                 dtype=<class 'numpy.int64'>, encoding='utf-8',\n",
       "                                 input='content', lowercase=True, max_df=1.0,\n",
       "                                 max_features=None, min_df=1,\n",
       "                                 ngram_range=(1, 1), preprocessor=None,\n",
       "                                 stop_words=None, strip_accents=None,\n",
       "                                 token_pattern='(?u)\\\\b\\\\w\\\\w+\\\\b',\n",
       "                                 tokenizer=None, vocabulary=None)),\n",
       "                ('tfidf',\n",
       "                 TfidfTransformer(norm='l2', smooth_idf=True,\n",
       "                                  sublinear_tf=False, use_idf=True)),\n",
       "                ('clf',\n",
       "                 SVC(C=1.0, break_ties=False, cache_size=200, class_weight=None,\n",
       "                     coef0=0.0, decision_function_shape='ovr', degree=3,\n",
       "                     gamma='scale', kernel='rbf', max_iter=-1,\n",
       "                     probability=False, random_state=None, shrinking=True,\n",
       "                     tol=0.001, verbose=False))],\n",
       "         verbose=False)"
      ]
     },
     "execution_count": 2130,
     "metadata": {},
     "output_type": "execute_result"
    }
   ],
   "source": []
  },
  {
   "cell_type": "code",
   "execution_count": 2121,
   "metadata": {},
   "outputs": [
    {
     "data": {
      "text/plain": [
       "['model.pkl']"
      ]
     },
     "execution_count": 2121,
     "metadata": {},
     "output_type": "execute_result"
    }
   ],
   "source": [
    "joblib.dump(model_SVC, 'model.pkl')"
   ]
  },
  {
   "cell_type": "code",
   "execution_count": 2122,
   "metadata": {},
   "outputs": [],
   "source": [
    "model = joblib.load('model.pkl')"
   ]
  },
  {
   "cell_type": "code",
   "execution_count": 2150,
   "metadata": {},
   "outputs": [],
   "source": [
    "news = pd.read_excel('news.xlsx')"
   ]
  },
  {
   "cell_type": "code",
   "execution_count": 2151,
   "metadata": {},
   "outputs": [],
   "source": [
    "news = news.drop(columns='Unnamed: 0')"
   ]
  },
  {
   "cell_type": "code",
   "execution_count": 2154,
   "metadata": {},
   "outputs": [],
   "source": [
    "# Aplica a função em todos os dados:\n",
    "df['titulo'] = [Preprocessing(i) for i in df['titulo']]"
   ]
  },
  {
   "cell_type": "code",
   "execution_count": 2155,
   "metadata": {},
   "outputs": [],
   "source": [
    "all_words = [word for tokens in news['titulo'] for word in tokens]\n",
    "sentence_lengths = [len(tokens) for tokens in news['titulo']]\n",
    "VOCAB = sorted(list(set(all_words)))"
   ]
  },
  {
   "cell_type": "code",
   "execution_count": 2134,
   "metadata": {},
   "outputs": [],
   "source": [
    "def _tokenize_text(data):\n",
    "    ls = []\n",
    "\n",
    "    for line in data:\n",
    "        tokens = wordpunct_tokenize(line)\n",
    "        ls.append(tokens)\n",
    "\n",
    "    return ls"
   ]
  },
  {
   "cell_type": "code",
   "execution_count": 2135,
   "metadata": {},
   "outputs": [],
   "source": [
    "X_train_tokens = _tokenize_text(news['titulo'])"
   ]
  },
  {
   "cell_type": "code",
   "execution_count": 2136,
   "metadata": {},
   "outputs": [],
   "source": [
    "def _apply_standardization(tokens, std_list):\n",
    "    ls = []\n",
    "\n",
    "    for tk_line in tokens:\n",
    "        new_tokens = []\n",
    "        \n",
    "        for word in tk_line:\n",
    "            if word.lower() in std_list:\n",
    "                word = std_list[word.lower()]\n",
    "                \n",
    "            new_tokens.append(word) \n",
    "            \n",
    "        ls.append(new_tokens)\n",
    "\n",
    "    return ls"
   ]
  },
  {
   "cell_type": "code",
   "execution_count": 2137,
   "metadata": {},
   "outputs": [],
   "source": [
    "def _remove_stopwords(tokens, stopword_list):\n",
    "    ls = []\n",
    "\n",
    "    for tk_line in tokens:\n",
    "        new_tokens = []\n",
    "        \n",
    "        for word in tk_line:\n",
    "            if word.lower() not in stopword_list:\n",
    "                new_tokens.append(word) \n",
    "            \n",
    "        ls.append(new_tokens)\n",
    "        \n",
    "    return ls"
   ]
  },
  {
   "cell_type": "code",
   "execution_count": 2138,
   "metadata": {},
   "outputs": [],
   "source": [
    "# list of array\n",
    "custom_stopwords = stopwords.values.tolist()"
   ]
  },
  {
   "cell_type": "code",
   "execution_count": 2139,
   "metadata": {},
   "outputs": [],
   "source": [
    "# transform list of array to list\n",
    "custom_stopwords = [s[0] for s in custom_stopwords]"
   ]
  },
  {
   "cell_type": "code",
   "execution_count": 2140,
   "metadata": {},
   "outputs": [],
   "source": [
    "X_train_tokens = _remove_stopwords(X_train_tokens, custom_stopwords)"
   ]
  },
  {
   "cell_type": "code",
   "execution_count": 2141,
   "metadata": {},
   "outputs": [],
   "source": [
    "#criar gráfico de núvem\n",
    "def _get_text_cloud(tokens):\n",
    "    text = ''\n",
    "\n",
    "    for tk_line in tokens:\n",
    "        new_tokens = []\n",
    "        \n",
    "        for word in tk_line:\n",
    "            text += word + ' '\n",
    "        \n",
    "    return text"
   ]
  },
  {
   "cell_type": "code",
   "execution_count": 2142,
   "metadata": {},
   "outputs": [
    {
     "data": {
      "image/png": "[encoded data removed]",
      "text/plain": [
       "<Figure size 1152x648 with 1 Axes>"
      ]
     },
     "metadata": {
      "needs_background": "light"
     },
     "output_type": "display_data"
    }
   ],
   "source": [
    "# print train WordCloud\n",
    "sample_train = random.sample(X_train_tokens, 100)\n",
    "text_cloud = _get_text_cloud(sample_train)\n",
    "\n",
    "word_cloud = WordCloud(max_font_size = 100, width = 1520, height = 535)\n",
    "word_cloud.generate(text_cloud)\n",
    "plt.figure(figsize = (16, 9))\n",
    "plt.imshow(word_cloud)\n",
    "plt.axis('off')\n",
    "plt.show()"
   ]
  },
  {
   "cell_type": "code",
   "execution_count": 2156,
   "metadata": {},
   "outputs": [
    {
     "ename": "ValueError",
     "evalue": "Length of values does not match length of index",
     "output_type": "error",
     "traceback": [
      "\u001b[1;31m---------------------------------------------------------------------------\u001b[0m",
      "\u001b[1;31mValueError\u001b[0m                                Traceback (most recent call last)",
      "\u001b[1;32m<ipython-input-2156-451ec24bdc3b>\u001b[0m in \u001b[0;36m<module>\u001b[1;34m\u001b[0m\n\u001b[1;32m----> 1\u001b[1;33m \u001b[0mnews\u001b[0m\u001b[1;33m[\u001b[0m\u001b[1;34m'classes'\u001b[0m\u001b[1;33m]\u001b[0m \u001b[1;33m=\u001b[0m \u001b[0mmodel\u001b[0m\u001b[1;33m.\u001b[0m\u001b[0mpredict\u001b[0m\u001b[1;33m(\u001b[0m\u001b[0mnews\u001b[0m\u001b[1;33m)\u001b[0m\u001b[1;33m\u001b[0m\u001b[1;33m\u001b[0m\u001b[0m\n\u001b[0m",
      "\u001b[1;32m~\\Anaconda3\\lib\\site-packages\\pandas\\core\\frame.py\u001b[0m in \u001b[0;36m__setitem__\u001b[1;34m(self, key, value)\u001b[0m\n\u001b[0;32m   3485\u001b[0m         \u001b[1;32melse\u001b[0m\u001b[1;33m:\u001b[0m\u001b[1;33m\u001b[0m\u001b[1;33m\u001b[0m\u001b[0m\n\u001b[0;32m   3486\u001b[0m             \u001b[1;31m# set column\u001b[0m\u001b[1;33m\u001b[0m\u001b[1;33m\u001b[0m\u001b[1;33m\u001b[0m\u001b[0m\n\u001b[1;32m-> 3487\u001b[1;33m             \u001b[0mself\u001b[0m\u001b[1;33m.\u001b[0m\u001b[0m_set_item\u001b[0m\u001b[1;33m(\u001b[0m\u001b[0mkey\u001b[0m\u001b[1;33m,\u001b[0m \u001b[0mvalue\u001b[0m\u001b[1;33m)\u001b[0m\u001b[1;33m\u001b[0m\u001b[1;33m\u001b[0m\u001b[0m\n\u001b[0m\u001b[0;32m   3488\u001b[0m \u001b[1;33m\u001b[0m\u001b[0m\n\u001b[0;32m   3489\u001b[0m     \u001b[1;32mdef\u001b[0m \u001b[0m_setitem_slice\u001b[0m\u001b[1;33m(\u001b[0m\u001b[0mself\u001b[0m\u001b[1;33m,\u001b[0m \u001b[0mkey\u001b[0m\u001b[1;33m,\u001b[0m \u001b[0mvalue\u001b[0m\u001b[1;33m)\u001b[0m\u001b[1;33m:\u001b[0m\u001b[1;33m\u001b[0m\u001b[1;33m\u001b[0m\u001b[0m\n",
      "\u001b[1;32m~\\Anaconda3\\lib\\site-packages\\pandas\\core\\frame.py\u001b[0m in \u001b[0;36m_set_item\u001b[1;34m(self, key, value)\u001b[0m\n\u001b[0;32m   3562\u001b[0m \u001b[1;33m\u001b[0m\u001b[0m\n\u001b[0;32m   3563\u001b[0m         \u001b[0mself\u001b[0m\u001b[1;33m.\u001b[0m\u001b[0m_ensure_valid_index\u001b[0m\u001b[1;33m(\u001b[0m\u001b[0mvalue\u001b[0m\u001b[1;33m)\u001b[0m\u001b[1;33m\u001b[0m\u001b[1;33m\u001b[0m\u001b[0m\n\u001b[1;32m-> 3564\u001b[1;33m         \u001b[0mvalue\u001b[0m \u001b[1;33m=\u001b[0m \u001b[0mself\u001b[0m\u001b[1;33m.\u001b[0m\u001b[0m_sanitize_column\u001b[0m\u001b[1;33m(\u001b[0m\u001b[0mkey\u001b[0m\u001b[1;33m,\u001b[0m \u001b[0mvalue\u001b[0m\u001b[1;33m)\u001b[0m\u001b[1;33m\u001b[0m\u001b[1;33m\u001b[0m\u001b[0m\n\u001b[0m\u001b[0;32m   3565\u001b[0m         \u001b[0mNDFrame\u001b[0m\u001b[1;33m.\u001b[0m\u001b[0m_set_item\u001b[0m\u001b[1;33m(\u001b[0m\u001b[0mself\u001b[0m\u001b[1;33m,\u001b[0m \u001b[0mkey\u001b[0m\u001b[1;33m,\u001b[0m \u001b[0mvalue\u001b[0m\u001b[1;33m)\u001b[0m\u001b[1;33m\u001b[0m\u001b[1;33m\u001b[0m\u001b[0m\n\u001b[0;32m   3566\u001b[0m \u001b[1;33m\u001b[0m\u001b[0m\n",
      "\u001b[1;32m~\\Anaconda3\\lib\\site-packages\\pandas\\core\\frame.py\u001b[0m in \u001b[0;36m_sanitize_column\u001b[1;34m(self, key, value, broadcast)\u001b[0m\n\u001b[0;32m   3747\u001b[0m \u001b[1;33m\u001b[0m\u001b[0m\n\u001b[0;32m   3748\u001b[0m             \u001b[1;31m# turn me into an ndarray\u001b[0m\u001b[1;33m\u001b[0m\u001b[1;33m\u001b[0m\u001b[1;33m\u001b[0m\u001b[0m\n\u001b[1;32m-> 3749\u001b[1;33m             \u001b[0mvalue\u001b[0m \u001b[1;33m=\u001b[0m \u001b[0msanitize_index\u001b[0m\u001b[1;33m(\u001b[0m\u001b[0mvalue\u001b[0m\u001b[1;33m,\u001b[0m \u001b[0mself\u001b[0m\u001b[1;33m.\u001b[0m\u001b[0mindex\u001b[0m\u001b[1;33m,\u001b[0m \u001b[0mcopy\u001b[0m\u001b[1;33m=\u001b[0m\u001b[1;32mFalse\u001b[0m\u001b[1;33m)\u001b[0m\u001b[1;33m\u001b[0m\u001b[1;33m\u001b[0m\u001b[0m\n\u001b[0m\u001b[0;32m   3750\u001b[0m             \u001b[1;32mif\u001b[0m \u001b[1;32mnot\u001b[0m \u001b[0misinstance\u001b[0m\u001b[1;33m(\u001b[0m\u001b[0mvalue\u001b[0m\u001b[1;33m,\u001b[0m \u001b[1;33m(\u001b[0m\u001b[0mnp\u001b[0m\u001b[1;33m.\u001b[0m\u001b[0mndarray\u001b[0m\u001b[1;33m,\u001b[0m \u001b[0mIndex\u001b[0m\u001b[1;33m)\u001b[0m\u001b[1;33m)\u001b[0m\u001b[1;33m:\u001b[0m\u001b[1;33m\u001b[0m\u001b[1;33m\u001b[0m\u001b[0m\n\u001b[0;32m   3751\u001b[0m                 \u001b[1;32mif\u001b[0m \u001b[0misinstance\u001b[0m\u001b[1;33m(\u001b[0m\u001b[0mvalue\u001b[0m\u001b[1;33m,\u001b[0m \u001b[0mlist\u001b[0m\u001b[1;33m)\u001b[0m \u001b[1;32mand\u001b[0m \u001b[0mlen\u001b[0m\u001b[1;33m(\u001b[0m\u001b[0mvalue\u001b[0m\u001b[1;33m)\u001b[0m \u001b[1;33m>\u001b[0m \u001b[1;36m0\u001b[0m\u001b[1;33m:\u001b[0m\u001b[1;33m\u001b[0m\u001b[1;33m\u001b[0m\u001b[0m\n",
      "\u001b[1;32m~\\Anaconda3\\lib\\site-packages\\pandas\\core\\internals\\construction.py\u001b[0m in \u001b[0;36msanitize_index\u001b[1;34m(data, index, copy)\u001b[0m\n\u001b[0;32m    610\u001b[0m \u001b[1;33m\u001b[0m\u001b[0m\n\u001b[0;32m    611\u001b[0m     \u001b[1;32mif\u001b[0m \u001b[0mlen\u001b[0m\u001b[1;33m(\u001b[0m\u001b[0mdata\u001b[0m\u001b[1;33m)\u001b[0m \u001b[1;33m!=\u001b[0m \u001b[0mlen\u001b[0m\u001b[1;33m(\u001b[0m\u001b[0mindex\u001b[0m\u001b[1;33m)\u001b[0m\u001b[1;33m:\u001b[0m\u001b[1;33m\u001b[0m\u001b[1;33m\u001b[0m\u001b[0m\n\u001b[1;32m--> 612\u001b[1;33m         \u001b[1;32mraise\u001b[0m \u001b[0mValueError\u001b[0m\u001b[1;33m(\u001b[0m\u001b[1;34m\"Length of values does not match length of index\"\u001b[0m\u001b[1;33m)\u001b[0m\u001b[1;33m\u001b[0m\u001b[1;33m\u001b[0m\u001b[0m\n\u001b[0m\u001b[0;32m    613\u001b[0m \u001b[1;33m\u001b[0m\u001b[0m\n\u001b[0;32m    614\u001b[0m     \u001b[1;32mif\u001b[0m \u001b[0misinstance\u001b[0m\u001b[1;33m(\u001b[0m\u001b[0mdata\u001b[0m\u001b[1;33m,\u001b[0m \u001b[0mABCIndexClass\u001b[0m\u001b[1;33m)\u001b[0m \u001b[1;32mand\u001b[0m \u001b[1;32mnot\u001b[0m \u001b[0mcopy\u001b[0m\u001b[1;33m:\u001b[0m\u001b[1;33m\u001b[0m\u001b[1;33m\u001b[0m\u001b[0m\n",
      "\u001b[1;31mValueError\u001b[0m: Length of values does not match length of index"
     ]
    }
   ],
   "source": [
    "news['classes'] = model.predict(news)"
   ]
  },
  {
   "cell_type": "code",
   "execution_count": 2158,
   "metadata": {},
   "outputs": [
    {
     "data": {
      "text/html": [
       "<div>\n",
       "<style scoped>\n",
       "    .dataframe tbody tr th:only-of-type {\n",
       "        vertical-align: middle;\n",
       "    }\n",
       "\n",
       "    .dataframe tbody tr th {\n",
       "        vertical-align: top;\n",
       "    }\n",
       "\n",
       "    .dataframe thead th {\n",
       "        text-align: right;\n",
       "    }\n",
       "</style>\n",
       "<table border=\"1\" class=\"dataframe\">\n",
       "  <thead>\n",
       "    <tr style=\"text-align: right;\">\n",
       "      <th></th>\n",
       "      <th>titulo</th>\n",
       "      <th>Link</th>\n",
       "      <th>data</th>\n",
       "      <th>classes</th>\n",
       "    </tr>\n",
       "  </thead>\n",
       "  <tbody>\n",
       "    <tr>\n",
       "      <th>0</th>\n",
       "      <td>Brasil tem quase 600 mortos e passa de 12 mil ...</td>\n",
       "      <td>https://g1.globo.com/bemestar/coronavirus/noti...</td>\n",
       "      <td>2007-04-20</td>\n",
       "      <td>negativo</td>\n",
       "    </tr>\n",
       "    <tr>\n",
       "      <th>1</th>\n",
       "      <td>O que você precisa saber sobre a Covid-19</td>\n",
       "      <td>https://g1.globo.com/bemestar/coronavirus/noti...</td>\n",
       "      <td>2027-02-20</td>\n",
       "      <td>positivo</td>\n",
       "    </tr>\n",
       "    <tr>\n",
       "      <th>2</th>\n",
       "      <td>Itália tem menor número de casos de coronavíru...</td>\n",
       "      <td>https://g1.globo.com/mundo/noticia/2020/04/07/...</td>\n",
       "      <td>2007-04-20</td>\n",
       "      <td>positivo</td>\n",
       "    </tr>\n",
       "    <tr>\n",
       "      <th>3</th>\n",
       "      <td>'Coronavírus': MPT e TRT-15 direcionam mais R$...</td>\n",
       "      <td>https://g1.globo.com/sp/campinas-regiao/notici...</td>\n",
       "      <td>2007-04-20</td>\n",
       "      <td>positivo</td>\n",
       "    </tr>\n",
       "    <tr>\n",
       "      <th>4</th>\n",
       "      <td>Campinas confirma novos casos e chega a 70 inf...</td>\n",
       "      <td>https://g1.globo.com/sp/campinas-regiao/notici...</td>\n",
       "      <td>2007-04-20</td>\n",
       "      <td>negativo</td>\n",
       "    </tr>\n",
       "  </tbody>\n",
       "</table>\n",
       "</div>"
      ],
      "text/plain": [
       "                                              titulo  \\\n",
       "0  Brasil tem quase 600 mortos e passa de 12 mil ...   \n",
       "1          O que você precisa saber sobre a Covid-19   \n",
       "2  Itália tem menor número de casos de coronavíru...   \n",
       "3  'Coronavírus': MPT e TRT-15 direcionam mais R$...   \n",
       "4  Campinas confirma novos casos e chega a 70 inf...   \n",
       "\n",
       "                                                Link       data   classes  \n",
       "0  https://g1.globo.com/bemestar/coronavirus/noti... 2007-04-20  negativo  \n",
       "1  https://g1.globo.com/bemestar/coronavirus/noti... 2027-02-20  positivo  \n",
       "2  https://g1.globo.com/mundo/noticia/2020/04/07/... 2007-04-20  positivo  \n",
       "3  https://g1.globo.com/sp/campinas-regiao/notici... 2007-04-20  positivo  \n",
       "4  https://g1.globo.com/sp/campinas-regiao/notici... 2007-04-20  negativo  "
      ]
     },
     "execution_count": 2158,
     "metadata": {},
     "output_type": "execute_result"
    }
   ],
   "source": [
    "df.head()"
   ]
  },
  {
   "cell_type": "code",
   "execution_count": 2153,
   "metadata": {},
   "outputs": [
    {
     "data": {
      "text/html": [
       "<div>\n",
       "<style scoped>\n",
       "    .dataframe tbody tr th:only-of-type {\n",
       "        vertical-align: middle;\n",
       "    }\n",
       "\n",
       "    .dataframe tbody tr th {\n",
       "        vertical-align: top;\n",
       "    }\n",
       "\n",
       "    .dataframe thead th {\n",
       "        text-align: right;\n",
       "    }\n",
       "</style>\n",
       "<table border=\"1\" class=\"dataframe\">\n",
       "  <thead>\n",
       "    <tr style=\"text-align: right;\">\n",
       "      <th></th>\n",
       "      <th>titulo</th>\n",
       "      <th>Link</th>\n",
       "      <th>data</th>\n",
       "    </tr>\n",
       "  </thead>\n",
       "  <tbody>\n",
       "    <tr>\n",
       "      <th>0</th>\n",
       "      <td>Brasil tem quase 600 mortos e passa de 12 mil ...</td>\n",
       "      <td>https://g1.globo.com/bemestar/coronavirus/noti...</td>\n",
       "      <td>2007-04-20</td>\n",
       "    </tr>\n",
       "    <tr>\n",
       "      <th>1</th>\n",
       "      <td>O que você precisa saber sobre a Covid-19</td>\n",
       "      <td>https://g1.globo.com/bemestar/coronavirus/noti...</td>\n",
       "      <td>2027-02-20</td>\n",
       "    </tr>\n",
       "    <tr>\n",
       "      <th>2</th>\n",
       "      <td>Itália tem menor número de casos de coronavíru...</td>\n",
       "      <td>https://g1.globo.com/mundo/noticia/2020/04/07/...</td>\n",
       "      <td>2007-04-20</td>\n",
       "    </tr>\n",
       "    <tr>\n",
       "      <th>3</th>\n",
       "      <td>'Coronavírus': MPT e TRT-15 direcionam mais R$...</td>\n",
       "      <td>https://g1.globo.com/sp/campinas-regiao/notici...</td>\n",
       "      <td>2007-04-20</td>\n",
       "    </tr>\n",
       "    <tr>\n",
       "      <th>4</th>\n",
       "      <td>Campinas confirma novos casos e chega a 70 inf...</td>\n",
       "      <td>https://g1.globo.com/sp/campinas-regiao/notici...</td>\n",
       "      <td>2007-04-20</td>\n",
       "    </tr>\n",
       "  </tbody>\n",
       "</table>\n",
       "</div>"
      ],
      "text/plain": [
       "                                              titulo  \\\n",
       "0  Brasil tem quase 600 mortos e passa de 12 mil ...   \n",
       "1          O que você precisa saber sobre a Covid-19   \n",
       "2  Itália tem menor número de casos de coronavíru...   \n",
       "3  'Coronavírus': MPT e TRT-15 direcionam mais R$...   \n",
       "4  Campinas confirma novos casos e chega a 70 inf...   \n",
       "\n",
       "                                                Link       data  \n",
       "0  https://g1.globo.com/bemestar/coronavirus/noti... 2007-04-20  \n",
       "1  https://g1.globo.com/bemestar/coronavirus/noti... 2027-02-20  \n",
       "2  https://g1.globo.com/mundo/noticia/2020/04/07/... 2007-04-20  \n",
       "3  https://g1.globo.com/sp/campinas-regiao/notici... 2007-04-20  \n",
       "4  https://g1.globo.com/sp/campinas-regiao/notici... 2007-04-20  "
      ]
     },
     "execution_count": 2153,
     "metadata": {},
     "output_type": "execute_result"
    }
   ],
   "source": [
    "news.head()"
   ]
  },
  {
   "cell_type": "code",
   "execution_count": null,
   "metadata": {},
   "outputs": [],
   "source": []
  }
 ],
 "metadata": {
  "kernelspec": {
   "display_name": "Python 3",
   "language": "python",
   "name": "python3"
  },
  "language_info": {
   "codemirror_mode": {
    "name": "ipython",
    "version": 3
   },
   "file_extension": ".py",
   "mimetype": "text/x-python",
   "name": "python",
   "nbconvert_exporter": "python",
   "pygments_lexer": "ipython3",
   "version": "3.7.4"
  }
 },
 "nbformat": 4,
 "nbformat_minor": 2
}
